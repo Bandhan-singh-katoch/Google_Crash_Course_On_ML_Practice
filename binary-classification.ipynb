{
 "cells": [
  {
   "cell_type": "code",
   "execution_count": 1,
   "id": "1b439110",
   "metadata": {
    "_cell_guid": "b1076dfc-b9ad-4769-8c92-a6c4dae69d19",
    "_uuid": "8f2839f25d086af736a60e9eeb907d3b93b6e0e5",
    "execution": {
     "iopub.execute_input": "2022-02-15T08:38:58.193976Z",
     "iopub.status.busy": "2022-02-15T08:38:58.192817Z",
     "iopub.status.idle": "2022-02-15T08:39:04.545357Z",
     "shell.execute_reply": "2022-02-15T08:39:04.544557Z"
    },
    "papermill": {
     "duration": 6.363839,
     "end_time": "2022-02-15T08:39:04.545541",
     "exception": false,
     "start_time": "2022-02-15T08:38:58.181702",
     "status": "completed"
    },
    "tags": []
   },
   "outputs": [],
   "source": [
    "import numpy as np\n",
    "import pandas as pd\n",
    "import tensorflow as tf\n",
    "from tensorflow.keras import layers\n",
    "from matplotlib import pyplot as plt\n",
    "\n",
    "pd.options.display.max_rows =10\n",
    "pd.options.display.float_format = \"{:.1f}\".format"
   ]
  },
  {
   "cell_type": "code",
   "execution_count": 2,
   "id": "a947f1f5",
   "metadata": {
    "execution": {
     "iopub.execute_input": "2022-02-15T08:39:04.567249Z",
     "iopub.status.busy": "2022-02-15T08:39:04.566563Z",
     "iopub.status.idle": "2022-02-15T08:39:04.654452Z",
     "shell.execute_reply": "2022-02-15T08:39:04.653719Z"
    },
    "papermill": {
     "duration": 0.100122,
     "end_time": "2022-02-15T08:39:04.654597",
     "exception": false,
     "start_time": "2022-02-15T08:39:04.554475",
     "status": "completed"
    },
    "tags": []
   },
   "outputs": [],
   "source": [
    "train_df = pd.read_csv(\"../input/google-machine-learning-crash-course/california_housing_train (5).xls\")\n",
    "test_df = pd.read_csv(\"../input/google-machine-learning-crash-course/california_housing_test (2).csv\")\n",
    "train_df = train_df.reindex(np.random.permutation(train_df.index))"
   ]
  },
  {
   "cell_type": "code",
   "execution_count": 3,
   "id": "344c5f9d",
   "metadata": {
    "execution": {
     "iopub.execute_input": "2022-02-15T08:39:04.673804Z",
     "iopub.status.busy": "2022-02-15T08:39:04.673016Z",
     "iopub.status.idle": "2022-02-15T08:39:04.695502Z",
     "shell.execute_reply": "2022-02-15T08:39:04.696008Z"
    },
    "papermill": {
     "duration": 0.034559,
     "end_time": "2022-02-15T08:39:04.696194",
     "exception": false,
     "start_time": "2022-02-15T08:39:04.661635",
     "status": "completed"
    },
    "tags": []
   },
   "outputs": [
    {
     "data": {
      "text/html": [
       "<div>\n",
       "<style scoped>\n",
       "    .dataframe tbody tr th:only-of-type {\n",
       "        vertical-align: middle;\n",
       "    }\n",
       "\n",
       "    .dataframe tbody tr th {\n",
       "        vertical-align: top;\n",
       "    }\n",
       "\n",
       "    .dataframe thead th {\n",
       "        text-align: right;\n",
       "    }\n",
       "</style>\n",
       "<table border=\"1\" class=\"dataframe\">\n",
       "  <thead>\n",
       "    <tr style=\"text-align: right;\">\n",
       "      <th></th>\n",
       "      <th>longitude</th>\n",
       "      <th>latitude</th>\n",
       "      <th>housing_median_age</th>\n",
       "      <th>total_rooms</th>\n",
       "      <th>total_bedrooms</th>\n",
       "      <th>population</th>\n",
       "      <th>households</th>\n",
       "      <th>median_income</th>\n",
       "      <th>median_house_value</th>\n",
       "    </tr>\n",
       "  </thead>\n",
       "  <tbody>\n",
       "    <tr>\n",
       "      <th>15415</th>\n",
       "      <td>-1.4</td>\n",
       "      <td>1.1</td>\n",
       "      <td>-1.5</td>\n",
       "      <td>-1.0</td>\n",
       "      <td>-1.0</td>\n",
       "      <td>-1.0</td>\n",
       "      <td>-1.0</td>\n",
       "      <td>-0.9</td>\n",
       "      <td>-0.5</td>\n",
       "    </tr>\n",
       "    <tr>\n",
       "      <th>6573</th>\n",
       "      <td>0.6</td>\n",
       "      <td>-0.7</td>\n",
       "      <td>-0.4</td>\n",
       "      <td>0.3</td>\n",
       "      <td>1.8</td>\n",
       "      <td>1.1</td>\n",
       "      <td>1.8</td>\n",
       "      <td>-0.7</td>\n",
       "      <td>0.1</td>\n",
       "    </tr>\n",
       "    <tr>\n",
       "      <th>16620</th>\n",
       "      <td>-1.6</td>\n",
       "      <td>1.3</td>\n",
       "      <td>-0.4</td>\n",
       "      <td>-0.2</td>\n",
       "      <td>-0.4</td>\n",
       "      <td>-0.5</td>\n",
       "      <td>-0.4</td>\n",
       "      <td>1.1</td>\n",
       "      <td>0.7</td>\n",
       "    </tr>\n",
       "    <tr>\n",
       "      <th>14384</th>\n",
       "      <td>-1.3</td>\n",
       "      <td>0.7</td>\n",
       "      <td>-0.8</td>\n",
       "      <td>0.3</td>\n",
       "      <td>0.0</td>\n",
       "      <td>0.0</td>\n",
       "      <td>0.0</td>\n",
       "      <td>0.7</td>\n",
       "      <td>0.9</td>\n",
       "    </tr>\n",
       "    <tr>\n",
       "      <th>5246</th>\n",
       "      <td>0.7</td>\n",
       "      <td>-0.7</td>\n",
       "      <td>-0.4</td>\n",
       "      <td>3.5</td>\n",
       "      <td>5.4</td>\n",
       "      <td>2.4</td>\n",
       "      <td>5.4</td>\n",
       "      <td>-0.1</td>\n",
       "      <td>0.2</td>\n",
       "    </tr>\n",
       "  </tbody>\n",
       "</table>\n",
       "</div>"
      ],
      "text/plain": [
       "       longitude  latitude  housing_median_age  total_rooms  total_bedrooms  \\\n",
       "15415       -1.4       1.1                -1.5         -1.0            -1.0   \n",
       "6573         0.6      -0.7                -0.4          0.3             1.8   \n",
       "16620       -1.6       1.3                -0.4         -0.2            -0.4   \n",
       "14384       -1.3       0.7                -0.8          0.3             0.0   \n",
       "5246         0.7      -0.7                -0.4          3.5             5.4   \n",
       "\n",
       "       population  households  median_income  median_house_value  \n",
       "15415        -1.0        -1.0           -0.9                -0.5  \n",
       "6573          1.1         1.8           -0.7                 0.1  \n",
       "16620        -0.5        -0.4            1.1                 0.7  \n",
       "14384         0.0         0.0            0.7                 0.9  \n",
       "5246          2.4         5.4           -0.1                 0.2  "
      ]
     },
     "execution_count": 3,
     "metadata": {},
     "output_type": "execute_result"
    }
   ],
   "source": [
    "# Normalize dataset by converting each raw value to its Z-score\n",
    "# For train dataset\n",
    "train_df_mean = train_df.mean()\n",
    "train_df_std = train_df.std()\n",
    "train_df_norm = (train_df - train_df_mean)/train_df_std\n",
    "train_df_norm.head()"
   ]
  },
  {
   "cell_type": "code",
   "execution_count": 4,
   "id": "961c8b1c",
   "metadata": {
    "execution": {
     "iopub.execute_input": "2022-02-15T08:39:04.718393Z",
     "iopub.status.busy": "2022-02-15T08:39:04.716902Z",
     "iopub.status.idle": "2022-02-15T08:39:04.721392Z",
     "shell.execute_reply": "2022-02-15T08:39:04.720756Z"
    },
    "papermill": {
     "duration": 0.017599,
     "end_time": "2022-02-15T08:39:04.721530",
     "exception": false,
     "start_time": "2022-02-15T08:39:04.703931",
     "status": "completed"
    },
    "tags": []
   },
   "outputs": [],
   "source": [
    "# Normalize test dataset\n",
    "test_df_mean = test_df.mean()\n",
    "test_df_std = test_df.std()\n",
    "test_df_norm = (test_df - test_df_mean)/test_df_std"
   ]
  },
  {
   "cell_type": "code",
   "execution_count": 5,
   "id": "4c6fdcfd",
   "metadata": {
    "execution": {
     "iopub.execute_input": "2022-02-15T08:39:04.740218Z",
     "iopub.status.busy": "2022-02-15T08:39:04.739577Z",
     "iopub.status.idle": "2022-02-15T08:39:04.752223Z",
     "shell.execute_reply": "2022-02-15T08:39:04.752729Z"
    },
    "papermill": {
     "duration": 0.023555,
     "end_time": "2022-02-15T08:39:04.752914",
     "exception": false,
     "start_time": "2022-02-15T08:39:04.729359",
     "status": "completed"
    },
    "tags": []
   },
   "outputs": [
    {
     "data": {
      "text/plain": [
       "15415   0.0\n",
       "6573    0.0\n",
       "16620   1.0\n",
       "14384   1.0\n",
       "5246    0.0\n",
       "         ..\n",
       "3844    0.0\n",
       "5469    0.0\n",
       "4160    1.0\n",
       "12351   0.0\n",
       "8460    1.0\n",
       "Name: median_house_value_is_high, Length: 8000, dtype: float64"
      ]
     },
     "execution_count": 5,
     "metadata": {},
     "output_type": "execute_result"
    }
   ],
   "source": [
    "# Create Binary label\n",
    "threshold = 265000.0   #75th percentile of median house value\n",
    "train_df_norm[\"median_house_value_is_high\"] = (train_df[\"median_house_value\"] > threshold).astype(float)\n",
    "test_df_norm[\"median_house_value_is_high\"] = (test_df[\"median_house_value\"] > threshold).astype(float)\n",
    "train_df_norm[\"median_house_value_is_high\"].head(8000)"
   ]
  },
  {
   "cell_type": "code",
   "execution_count": 6,
   "id": "586e18d4",
   "metadata": {
    "execution": {
     "iopub.execute_input": "2022-02-15T08:39:04.773568Z",
     "iopub.status.busy": "2022-02-15T08:39:04.772870Z",
     "iopub.status.idle": "2022-02-15T08:39:04.777241Z",
     "shell.execute_reply": "2022-02-15T08:39:04.777802Z"
    },
    "papermill": {
     "duration": 0.016657,
     "end_time": "2022-02-15T08:39:04.777975",
     "exception": false,
     "start_time": "2022-02-15T08:39:04.761318",
     "status": "completed"
    },
    "tags": []
   },
   "outputs": [],
   "source": [
    "# Represent features in feature columns\n",
    "# Create an empty list that will hold created feature columns \n",
    "feature_columns = []\n",
    "\n",
    "# Create numerical feature column to represent median_income\n",
    "median_income = tf.feature_column.numeric_column(\"median_income\")\n",
    "feature_columns.append(median_income)\n",
    "\n",
    "# Create numerical feature column to represent total_rooms\n",
    "tr = tf.feature_column.numeric_column(\"total_rooms\")\n",
    "feature_columns.append(tr)"
   ]
  }
 ],
 "metadata": {
  "kernelspec": {
   "display_name": "Python 3",
   "language": "python",
   "name": "python3"
  },
  "language_info": {
   "codemirror_mode": {
    "name": "ipython",
    "version": 3
   },
   "file_extension": ".py",
   "mimetype": "text/x-python",
   "name": "python",
   "nbconvert_exporter": "python",
   "pygments_lexer": "ipython3",
   "version": "3.7.12"
  },
  "papermill": {
   "default_parameters": {},
   "duration": 19.686839,
   "end_time": "2022-02-15T08:39:07.983055",
   "environment_variables": {},
   "exception": null,
   "input_path": "__notebook__.ipynb",
   "output_path": "__notebook__.ipynb",
   "parameters": {},
   "start_time": "2022-02-15T08:38:48.296216",
   "version": "2.3.3"
  }
 },
 "nbformat": 4,
 "nbformat_minor": 5
}
