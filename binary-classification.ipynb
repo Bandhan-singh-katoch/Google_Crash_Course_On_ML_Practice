{
 "cells": [
  {
   "cell_type": "code",
   "execution_count": 1,
   "id": "1932f3d3",
   "metadata": {
    "_cell_guid": "b1076dfc-b9ad-4769-8c92-a6c4dae69d19",
    "_uuid": "8f2839f25d086af736a60e9eeb907d3b93b6e0e5",
    "execution": {
     "iopub.execute_input": "2022-02-14T18:25:41.024208Z",
     "iopub.status.busy": "2022-02-14T18:25:41.023092Z",
     "iopub.status.idle": "2022-02-14T18:25:46.368887Z",
     "shell.execute_reply": "2022-02-14T18:25:46.368189Z",
     "shell.execute_reply.started": "2022-02-14T17:35:04.252587Z"
    },
    "papermill": {
     "duration": 5.354226,
     "end_time": "2022-02-14T18:25:46.369054",
     "exception": false,
     "start_time": "2022-02-14T18:25:41.014828",
     "status": "completed"
    },
    "tags": []
   },
   "outputs": [],
   "source": [
    "import numpy as np\n",
    "import pandas as pd\n",
    "import tensorflow as tf\n",
    "from tensorflow.keras import layers\n",
    "from matplotlib import pyplot as plt\n",
    "\n",
    "pd.options.display.max_rows =10\n",
    "pd.options.display.float_format = \"{:.1f}\".format"
   ]
  },
  {
   "cell_type": "code",
   "execution_count": 2,
   "id": "d29f46cb",
   "metadata": {
    "execution": {
     "iopub.execute_input": "2022-02-14T18:25:46.383468Z",
     "iopub.status.busy": "2022-02-14T18:25:46.382867Z",
     "iopub.status.idle": "2022-02-14T18:25:46.457053Z",
     "shell.execute_reply": "2022-02-14T18:25:46.456466Z",
     "shell.execute_reply.started": "2022-02-14T17:48:41.874001Z"
    },
    "papermill": {
     "duration": 0.083418,
     "end_time": "2022-02-14T18:25:46.457188",
     "exception": false,
     "start_time": "2022-02-14T18:25:46.373770",
     "status": "completed"
    },
    "tags": []
   },
   "outputs": [],
   "source": [
    "train_df = pd.read_csv(\"../input/google-machine-learning-crash-course/california_housing_train (5).xls\")\n",
    "test_df = pd.read_csv(\"../input/google-machine-learning-crash-course/california_housing_test (2).csv\")\n",
    "train_df = train_df.reindex(np.random.permutation(train_df.index))"
   ]
  },
  {
   "cell_type": "code",
   "execution_count": null,
   "id": "0780af45",
   "metadata": {
    "papermill": {
     "duration": 0.003696,
     "end_time": "2022-02-14T18:25:46.465321",
     "exception": false,
     "start_time": "2022-02-14T18:25:46.461625",
     "status": "completed"
    },
    "tags": []
   },
   "outputs": [],
   "source": []
  }
 ],
 "metadata": {
  "kernelspec": {
   "display_name": "Python 3",
   "language": "python",
   "name": "python3"
  },
  "language_info": {
   "codemirror_mode": {
    "name": "ipython",
    "version": 3
   },
   "file_extension": ".py",
   "mimetype": "text/x-python",
   "name": "python",
   "nbconvert_exporter": "python",
   "pygments_lexer": "ipython3",
   "version": "3.7.12"
  },
  "papermill": {
   "default_parameters": {},
   "duration": 17.427412,
   "end_time": "2022-02-14T18:25:49.532491",
   "environment_variables": {},
   "exception": null,
   "input_path": "__notebook__.ipynb",
   "output_path": "__notebook__.ipynb",
   "parameters": {},
   "start_time": "2022-02-14T18:25:32.105079",
   "version": "2.3.3"
  }
 },
 "nbformat": 4,
 "nbformat_minor": 5
}
