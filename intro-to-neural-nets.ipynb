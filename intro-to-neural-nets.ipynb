{
 "cells": [
  {
   "cell_type": "code",
   "execution_count": 1,
   "id": "85506129",
   "metadata": {
    "execution": {
     "iopub.execute_input": "2022-02-18T15:36:38.031815Z",
     "iopub.status.busy": "2022-02-18T15:36:38.030443Z",
     "iopub.status.idle": "2022-02-18T15:36:38.045581Z",
     "shell.execute_reply": "2022-02-18T15:36:38.046281Z",
     "shell.execute_reply.started": "2022-02-18T15:35:01.630239Z"
    },
    "papermill": {
     "duration": 0.039295,
     "end_time": "2022-02-18T15:36:38.046764",
     "exception": false,
     "start_time": "2022-02-18T15:36:38.007469",
     "status": "completed"
    },
    "tags": []
   },
   "outputs": [],
   "source": [
    "from __future__ import absolute_import, division, print_function, unicode_literals"
   ]
  },
  {
   "cell_type": "code",
   "execution_count": 2,
   "id": "a97af757",
   "metadata": {
    "_cell_guid": "b1076dfc-b9ad-4769-8c92-a6c4dae69d19",
    "_uuid": "8f2839f25d086af736a60e9eeb907d3b93b6e0e5",
    "execution": {
     "iopub.execute_input": "2022-02-18T15:36:38.095263Z",
     "iopub.status.busy": "2022-02-18T15:36:38.094404Z",
     "iopub.status.idle": "2022-02-18T15:36:46.054873Z",
     "shell.execute_reply": "2022-02-18T15:36:46.054140Z",
     "shell.execute_reply.started": "2022-02-18T15:35:01.646220Z"
    },
    "papermill": {
     "duration": 7.985785,
     "end_time": "2022-02-18T15:36:46.055031",
     "exception": false,
     "start_time": "2022-02-18T15:36:38.069246",
     "status": "completed"
    },
    "tags": []
   },
   "outputs": [],
   "source": [
    "import numpy as np\n",
    "import pandas as pd\n",
    "import tensorflow as tf\n",
    "from tensorflow.keras import layers\n",
    "from matplotlib import pyplot as plt\n",
    "import seaborn as sns\n",
    "\n",
    "pd.options.display.max_rows = 10\n",
    "pd.options.display.float_format = \"{:.1f}\".format"
   ]
  },
  {
   "cell_type": "code",
   "execution_count": 3,
   "id": "8b1bc380",
   "metadata": {
    "execution": {
     "iopub.execute_input": "2022-02-18T15:36:46.089179Z",
     "iopub.status.busy": "2022-02-18T15:36:46.088479Z",
     "iopub.status.idle": "2022-02-18T15:36:46.177647Z",
     "shell.execute_reply": "2022-02-18T15:36:46.178250Z",
     "shell.execute_reply.started": "2022-02-18T15:35:01.657306Z"
    },
    "papermill": {
     "duration": 0.108461,
     "end_time": "2022-02-18T15:36:46.178450",
     "exception": false,
     "start_time": "2022-02-18T15:36:46.069989",
     "status": "completed"
    },
    "tags": []
   },
   "outputs": [],
   "source": [
    "train_df = pd.read_csv(\"../input/google-machine-learning-crash-course/california_housing_train (5).xls\")\n",
    "test_df = pd.read_csv(\"../input/google-machine-learning-crash-course/california_housing_test (2).csv\")\n",
    "\n",
    "# Shuffling the data\n",
    "train_df = train_df.reindex(np.random.permutation(train_df.index))"
   ]
  },
  {
   "cell_type": "code",
   "execution_count": 4,
   "id": "8d2d6459",
   "metadata": {
    "execution": {
     "iopub.execute_input": "2022-02-18T15:36:46.212958Z",
     "iopub.status.busy": "2022-02-18T15:36:46.212230Z",
     "iopub.status.idle": "2022-02-18T15:36:46.223740Z",
     "shell.execute_reply": "2022-02-18T15:36:46.224356Z",
     "shell.execute_reply.started": "2022-02-18T15:35:01.717584Z"
    },
    "papermill": {
     "duration": 0.030823,
     "end_time": "2022-02-18T15:36:46.224550",
     "exception": false,
     "start_time": "2022-02-18T15:36:46.193727",
     "status": "completed"
    },
    "tags": []
   },
   "outputs": [],
   "source": [
    "# Convert raw value to their Z-score\n",
    "train_df_mean = train_df.mean()\n",
    "train_df_std = train_df.std()\n",
    "train_df_norm = (train_df - train_df_mean)/train_df_std\n",
    "\n",
    "test_df_mean = test_df.mean()\n",
    "test_df_std = test_df.std()\n",
    "test_df_norm = (test_df - test_df_mean)/test_df_std"
   ]
  },
  {
   "cell_type": "code",
   "execution_count": 5,
   "id": "0be097ec",
   "metadata": {
    "execution": {
     "iopub.execute_input": "2022-02-18T15:36:46.258429Z",
     "iopub.status.busy": "2022-02-18T15:36:46.257619Z",
     "iopub.status.idle": "2022-02-18T15:36:46.317608Z",
     "shell.execute_reply": "2022-02-18T15:36:46.316941Z",
     "shell.execute_reply.started": "2022-02-18T15:35:01.736332Z"
    },
    "papermill": {
     "duration": 0.078381,
     "end_time": "2022-02-18T15:36:46.317778",
     "exception": false,
     "start_time": "2022-02-18T15:36:46.239397",
     "status": "completed"
    },
    "tags": []
   },
   "outputs": [],
   "source": [
    "# This cell code creates feature layer constaining three features\n",
    "feature_columns = []\n",
    "\n",
    "# resolution in Z's\n",
    "resolution_in_Zs = 0.3\n",
    "\n",
    "# Create a bucket feature column for latitude\n",
    "latitude_as_a_numeric_column = tf.feature_column.numeric_column(\"latitude\")\n",
    "latitude_boundaries = list(np.arange(int(min(train_df_norm[\"latitude\"])),\n",
    "                                     int(max(train_df_norm[\"latitude\"])),\n",
    "                                     resolution_in_Zs))\n",
    "latitude = tf.feature_column.bucketized_column(latitude_as_a_numeric_column, latitude_boundaries)\n",
    "\n",
    "# Create a bucket feature column for longitude\n",
    "longitude_as_a_numeric_column = tf.feature_column.numeric_column(\"longitude\")\n",
    "longitude_boundaries = list(np.arange(int(min(train_df_norm[\"longitude\"])),\n",
    "                                      int(max(train_df_norm[\"longitude\"])),\n",
    "                                      resolution_in_Zs))\n",
    "longitude = tf.feature_column.bucketized_column(longitude_as_a_numeric_column, longitude_boundaries)\n",
    "\n",
    "# Create feature cross of latitude and longitude\n",
    "latitude_x_longitude = tf.feature_column.crossed_column([latitude, longitude], hash_bucket_size=100)\n",
    "crossed_feature = tf.feature_column.indicator_column(latitude_x_longitude)\n",
    "feature_columns.append(crossed_feature)\n",
    "\n",
    "# Represent median_income and population as floting point value\n",
    "median_income = tf.feature_column.numeric_column(\"median_income\")\n",
    "feature_columns.append(median_income)\n",
    "\n",
    "population = tf.feature_column.numeric_column(\"population\")\n",
    "feature_columns.append(population)\n",
    "\n",
    "# Convert these feature columns into a layer\n",
    "my_feature_layer = tf.keras.layers.DenseFeatures(feature_columns)"
   ]
  },
  {
   "cell_type": "markdown",
   "id": "52fb9760",
   "metadata": {
    "papermill": {
     "duration": 0.015291,
     "end_time": "2022-02-18T15:36:46.349174",
     "exception": false,
     "start_time": "2022-02-18T15:36:46.333883",
     "status": "completed"
    },
    "tags": []
   },
   "source": [
    "**Build a Linear Regression model as a baseline**"
   ]
  },
  {
   "cell_type": "code",
   "execution_count": 6,
   "id": "2e265079",
   "metadata": {
    "execution": {
     "iopub.execute_input": "2022-02-18T15:36:46.385803Z",
     "iopub.status.busy": "2022-02-18T15:36:46.384899Z",
     "iopub.status.idle": "2022-02-18T15:36:46.391467Z",
     "shell.execute_reply": "2022-02-18T15:36:46.392088Z",
     "shell.execute_reply.started": "2022-02-18T15:35:01.762973Z"
    },
    "papermill": {
     "duration": 0.025806,
     "end_time": "2022-02-18T15:36:46.392314",
     "exception": false,
     "start_time": "2022-02-18T15:36:46.366508",
     "status": "completed"
    },
    "tags": []
   },
   "outputs": [],
   "source": [
    "# Define the plotting function (loss vs epoch)\n",
    "def plot_the_loss_curve(epochs, mse):\n",
    "    plt.figure()\n",
    "    plt.xlabel(\"Epoch\")\n",
    "    plt.ylabel(\"Mean Squared Error\")\n",
    "    \n",
    "    plt.plot(epochs, mse, label=\"Loss\")\n",
    "    plt.legend()\n",
    "    plt.ylim([mse.min()*0.95, mse.max()*1.03])\n",
    "    plt.show()\n",
    "    "
   ]
  },
  {
   "cell_type": "code",
   "execution_count": 7,
   "id": "61d8d401",
   "metadata": {
    "execution": {
     "iopub.execute_input": "2022-02-18T15:36:46.430105Z",
     "iopub.status.busy": "2022-02-18T15:36:46.429346Z",
     "iopub.status.idle": "2022-02-18T15:36:46.432199Z",
     "shell.execute_reply": "2022-02-18T15:36:46.431492Z",
     "shell.execute_reply.started": "2022-02-18T15:35:01.770332Z"
    },
    "papermill": {
     "duration": 0.023952,
     "end_time": "2022-02-18T15:36:46.432363",
     "exception": false,
     "start_time": "2022-02-18T15:36:46.408411",
     "status": "completed"
    },
    "tags": []
   },
   "outputs": [],
   "source": [
    "# # Define functions to create and train a linear regression model\n",
    "# def create_model(my_learning_rate, feature_layer):\n",
    "#     model = tf.keras.models.Sequential()\n",
    "#     model.add(feature_layer)\n",
    "    \n",
    "#     model.add(tf.keras.layers.Dense(units=1, input_shape=(1,)))\n",
    "    \n",
    "#     model.compile(optimizer=tf.keras.optimizers.RMSprop(learning_rate=my_learning_rate),\n",
    "#                   loss=\"mean_squared_error\",\n",
    "#                   metrics=[tf.keras.metrics.MeanSquaredError()])\n",
    "    \n",
    "#     return model\n",
    "\n",
    "# def train_model(model, dataset, epochs, batch_size, label_name):\n",
    "#     features = {name:np.array(value) for name, value in dataset.items()}\n",
    "#     label = np.array(features.pop(label_name))\n",
    "#     history = model.fit(x=features, y=label, batch_size=batch_size, epochs=epochs, shuffle=True)\n",
    "    \n",
    "#     epochs = history.epoch\n",
    "#     hist = pd.DataFrame(history.history)\n",
    "#     rmse = hist[\"mean_squared_error\"]\n",
    "    \n",
    "#     return epochs, rmse\n"
   ]
  },
  {
   "cell_type": "code",
   "execution_count": 8,
   "id": "6739bc08",
   "metadata": {
    "execution": {
     "iopub.execute_input": "2022-02-18T15:36:46.466160Z",
     "iopub.status.busy": "2022-02-18T15:36:46.465441Z",
     "iopub.status.idle": "2022-02-18T15:36:46.468886Z",
     "shell.execute_reply": "2022-02-18T15:36:46.469617Z",
     "shell.execute_reply.started": "2022-02-18T15:35:01.785236Z"
    },
    "papermill": {
     "duration": 0.022618,
     "end_time": "2022-02-18T15:36:46.469796",
     "exception": false,
     "start_time": "2022-02-18T15:36:46.447178",
     "status": "completed"
    },
    "tags": []
   },
   "outputs": [],
   "source": [
    "# # Calling the above functions\n",
    "# learning_rate = 0.01\n",
    "# epochs = 15\n",
    "# batch_size = 1000\n",
    "# label_name = \"median_house_value\"\n",
    "\n",
    "# my_model = create_model(learning_rate, my_feature_layer)\n",
    "\n",
    "# epochs, mse = train_model(my_model, train_df_norm, epochs, batch_size, label_name)\n",
    "# plot_the_loss_curve(epochs, mse)\n",
    "\n",
    "# test_features = {name:np.array(value) for name,value in test_df_norm.items()}\n",
    "# test_label = np.array(test_features.pop(label_name))\n",
    "# # Evaluate the linear regression model\n",
    "# my_model.evaluate(x=test_features, y=test_label, batch_size=batch_size)"
   ]
  },
  {
   "cell_type": "markdown",
   "id": "eadc31da",
   "metadata": {
    "papermill": {
     "duration": 0.014213,
     "end_time": "2022-02-18T15:36:46.498956",
     "exception": false,
     "start_time": "2022-02-18T15:36:46.484743",
     "status": "completed"
    },
    "tags": []
   },
   "source": [
    "**Define a deep neural net model**"
   ]
  },
  {
   "cell_type": "code",
   "execution_count": 9,
   "id": "8f8c644a",
   "metadata": {
    "execution": {
     "iopub.execute_input": "2022-02-18T15:36:46.539861Z",
     "iopub.status.busy": "2022-02-18T15:36:46.539137Z",
     "iopub.status.idle": "2022-02-18T15:36:46.542715Z",
     "shell.execute_reply": "2022-02-18T15:36:46.542087Z",
     "shell.execute_reply.started": "2022-02-18T15:35:01.801389Z"
    },
    "papermill": {
     "duration": 0.02827,
     "end_time": "2022-02-18T15:36:46.542860",
     "exception": false,
     "start_time": "2022-02-18T15:36:46.514590",
     "status": "completed"
    },
    "tags": []
   },
   "outputs": [],
   "source": [
    "def create_model(my_learning_rate, my_feature_layer):\n",
    "    model =None # to discard the pre existing version of the model\n",
    "    model = tf.keras.models.Sequential()\n",
    "    model.add(my_feature_layer)\n",
    "    \n",
    "    # Define 1st hidden layer with 10 nodes and implement L2 regularization \n",
    "    model.add(tf.keras.layers.Dense(units=10, activation='relu',\n",
    "                                    kernel_regularizer=tf.keras.regularizers.l2(0.001), \n",
    "                                    name='Hidden1'))\n",
    "    \n",
    "    # Define hidden layer 2 and and implement L2 regularization\n",
    "    model.add(tf.keras.layers.Dense(units=6, activation='relu', \n",
    "                                    kernel_regularizer=tf.keras.regularizers.l2(0.001), \n",
    "                                    name='Hidden2'))\n",
    "    \n",
    "    # Define Output layer\n",
    "    model.add(tf.keras.layers.Dense(units=1, name='Output'))\n",
    "    \n",
    "    model.compile(optimizer=tf.keras.optimizers.Adam(learning_rate=my_learning_rate),\n",
    "                  loss=\"mean_squared_error\",\n",
    "                  metrics=[tf.keras.metrics.MeanSquaredError()])\n",
    "    \n",
    "    return model\n"
   ]
  },
  {
   "cell_type": "code",
   "execution_count": 10,
   "id": "c782760b",
   "metadata": {
    "execution": {
     "iopub.execute_input": "2022-02-18T15:36:46.579693Z",
     "iopub.status.busy": "2022-02-18T15:36:46.578980Z",
     "iopub.status.idle": "2022-02-18T15:36:46.582521Z",
     "shell.execute_reply": "2022-02-18T15:36:46.581921Z",
     "shell.execute_reply.started": "2022-02-18T15:35:01.815748Z"
    },
    "papermill": {
     "duration": 0.025134,
     "end_time": "2022-02-18T15:36:46.582669",
     "exception": false,
     "start_time": "2022-02-18T15:36:46.557535",
     "status": "completed"
    },
    "tags": []
   },
   "outputs": [],
   "source": [
    "# training function\n",
    "def train_model(model, dataset, epochs, label_name, batch_size=None):\n",
    "    features = {name:np.array(value) for name, value in dataset.items()}\n",
    "    label = np.array(features.pop(label_name))\n",
    "    history = model.fit(x=features, y=label, batch_size=batch_size, epochs=epochs, shuffle=True)\n",
    "    \n",
    "    epochs = history.epoch\n",
    "    hist = pd.DataFrame(history.history)\n",
    "    mse = hist[\"mean_squared_error\"]\n",
    "    \n",
    "    return epochs, mse"
   ]
  },
  {
   "cell_type": "code",
   "execution_count": 11,
   "id": "ecad5d82",
   "metadata": {
    "execution": {
     "iopub.execute_input": "2022-02-18T15:36:46.626906Z",
     "iopub.status.busy": "2022-02-18T15:36:46.620528Z",
     "iopub.status.idle": "2022-02-18T15:36:57.620955Z",
     "shell.execute_reply": "2022-02-18T15:36:57.620413Z",
     "shell.execute_reply.started": "2022-02-18T15:35:01.831213Z"
    },
    "papermill": {
     "duration": 11.023554,
     "end_time": "2022-02-18T15:36:57.621111",
     "exception": false,
     "start_time": "2022-02-18T15:36:46.597557",
     "status": "completed"
    },
    "tags": []
   },
   "outputs": [
    {
     "name": "stderr",
     "output_type": "stream",
     "text": [
      "2022-02-18 15:36:46.641360: I tensorflow/core/common_runtime/process_util.cc:146] Creating new thread pool with default inter op setting: 2. Tune using inter_op_parallelism_threads for best performance.\n",
      "2022-02-18 15:36:46.801488: I tensorflow/compiler/mlir/mlir_graph_optimization_pass.cc:185] None of the MLIR Optimization Passes are enabled (registered 2)\n"
     ]
    },
    {
     "name": "stdout",
     "output_type": "stream",
     "text": [
      "Epoch 1/140\n",
      "17/17 [==============================] - 1s 5ms/step - loss: 0.7590 - mean_squared_error: 0.7402\n",
      "Epoch 2/140\n",
      "17/17 [==============================] - 0s 4ms/step - loss: 0.4334 - mean_squared_error: 0.4187\n",
      "Epoch 3/140\n",
      "17/17 [==============================] - 0s 4ms/step - loss: 0.3768 - mean_squared_error: 0.3615\n",
      "Epoch 4/140\n",
      "17/17 [==============================] - 0s 4ms/step - loss: 0.3616 - mean_squared_error: 0.3460\n",
      "Epoch 5/140\n",
      "17/17 [==============================] - 0s 6ms/step - loss: 0.3568 - mean_squared_error: 0.3419\n",
      "Epoch 6/140\n",
      "17/17 [==============================] - 0s 7ms/step - loss: 0.3540 - mean_squared_error: 0.3397\n",
      "Epoch 7/140\n",
      "17/17 [==============================] - 0s 5ms/step - loss: 0.3520 - mean_squared_error: 0.3383\n",
      "Epoch 8/140\n",
      "17/17 [==============================] - 0s 4ms/step - loss: 0.3515 - mean_squared_error: 0.3383\n",
      "Epoch 9/140\n",
      "17/17 [==============================] - 0s 4ms/step - loss: 0.3498 - mean_squared_error: 0.3371\n",
      "Epoch 10/140\n",
      "17/17 [==============================] - 0s 4ms/step - loss: 0.3500 - mean_squared_error: 0.3376\n",
      "Epoch 11/140\n",
      "17/17 [==============================] - 0s 4ms/step - loss: 0.3485 - mean_squared_error: 0.3363\n",
      "Epoch 12/140\n",
      "17/17 [==============================] - 0s 4ms/step - loss: 0.3472 - mean_squared_error: 0.3353\n",
      "Epoch 13/140\n",
      "17/17 [==============================] - 0s 3ms/step - loss: 0.3471 - mean_squared_error: 0.3355\n",
      "Epoch 14/140\n",
      "17/17 [==============================] - 0s 3ms/step - loss: 0.3465 - mean_squared_error: 0.3352\n",
      "Epoch 15/140\n",
      "17/17 [==============================] - 0s 4ms/step - loss: 0.3453 - mean_squared_error: 0.3341\n",
      "Epoch 16/140\n",
      "17/17 [==============================] - 0s 3ms/step - loss: 0.3441 - mean_squared_error: 0.3332\n",
      "Epoch 17/140\n",
      "17/17 [==============================] - 0s 3ms/step - loss: 0.3445 - mean_squared_error: 0.3338\n",
      "Epoch 18/140\n",
      "17/17 [==============================] - 0s 4ms/step - loss: 0.3435 - mean_squared_error: 0.3329\n",
      "Epoch 19/140\n",
      "17/17 [==============================] - 0s 4ms/step - loss: 0.3439 - mean_squared_error: 0.3336\n",
      "Epoch 20/140\n",
      "17/17 [==============================] - 0s 4ms/step - loss: 0.3433 - mean_squared_error: 0.3330\n",
      "Epoch 21/140\n",
      "17/17 [==============================] - 0s 3ms/step - loss: 0.3422 - mean_squared_error: 0.3320\n",
      "Epoch 22/140\n",
      "17/17 [==============================] - 0s 4ms/step - loss: 0.3424 - mean_squared_error: 0.3323\n",
      "Epoch 23/140\n",
      "17/17 [==============================] - 0s 4ms/step - loss: 0.3411 - mean_squared_error: 0.3311\n",
      "Epoch 24/140\n",
      "17/17 [==============================] - 0s 3ms/step - loss: 0.3407 - mean_squared_error: 0.3308\n",
      "Epoch 25/140\n",
      "17/17 [==============================] - 0s 4ms/step - loss: 0.3418 - mean_squared_error: 0.3320\n",
      "Epoch 26/140\n",
      "17/17 [==============================] - 0s 3ms/step - loss: 0.3404 - mean_squared_error: 0.3306\n",
      "Epoch 27/140\n",
      "17/17 [==============================] - 0s 3ms/step - loss: 0.3399 - mean_squared_error: 0.3302\n",
      "Epoch 28/140\n",
      "17/17 [==============================] - 0s 4ms/step - loss: 0.3400 - mean_squared_error: 0.3303\n",
      "Epoch 29/140\n",
      "17/17 [==============================] - 0s 4ms/step - loss: 0.3394 - mean_squared_error: 0.3298\n",
      "Epoch 30/140\n",
      "17/17 [==============================] - 0s 4ms/step - loss: 0.3392 - mean_squared_error: 0.3298\n",
      "Epoch 31/140\n",
      "17/17 [==============================] - 0s 4ms/step - loss: 0.3397 - mean_squared_error: 0.3303\n",
      "Epoch 32/140\n",
      "17/17 [==============================] - 0s 4ms/step - loss: 0.3388 - mean_squared_error: 0.3294\n",
      "Epoch 33/140\n",
      "17/17 [==============================] - 0s 3ms/step - loss: 0.3387 - mean_squared_error: 0.3293\n",
      "Epoch 34/140\n",
      "17/17 [==============================] - 0s 4ms/step - loss: 0.3390 - mean_squared_error: 0.3297\n",
      "Epoch 35/140\n",
      "17/17 [==============================] - 0s 4ms/step - loss: 0.3379 - mean_squared_error: 0.3286\n",
      "Epoch 36/140\n",
      "17/17 [==============================] - 0s 4ms/step - loss: 0.3379 - mean_squared_error: 0.3286\n",
      "Epoch 37/140\n",
      "17/17 [==============================] - 0s 4ms/step - loss: 0.3381 - mean_squared_error: 0.3289\n",
      "Epoch 38/140\n",
      "17/17 [==============================] - 0s 4ms/step - loss: 0.3374 - mean_squared_error: 0.3282\n",
      "Epoch 39/140\n",
      "17/17 [==============================] - 0s 4ms/step - loss: 0.3374 - mean_squared_error: 0.3284\n",
      "Epoch 40/140\n",
      "17/17 [==============================] - 0s 4ms/step - loss: 0.3370 - mean_squared_error: 0.3279\n",
      "Epoch 41/140\n",
      "17/17 [==============================] - 0s 4ms/step - loss: 0.3398 - mean_squared_error: 0.3307\n",
      "Epoch 42/140\n",
      "17/17 [==============================] - 0s 3ms/step - loss: 0.3373 - mean_squared_error: 0.3282\n",
      "Epoch 43/140\n",
      "17/17 [==============================] - 0s 3ms/step - loss: 0.3368 - mean_squared_error: 0.3278\n",
      "Epoch 44/140\n",
      "17/17 [==============================] - 0s 3ms/step - loss: 0.3363 - mean_squared_error: 0.3274\n",
      "Epoch 45/140\n",
      "17/17 [==============================] - 0s 3ms/step - loss: 0.3376 - mean_squared_error: 0.3286\n",
      "Epoch 46/140\n",
      "17/17 [==============================] - 0s 4ms/step - loss: 0.3365 - mean_squared_error: 0.3275\n",
      "Epoch 47/140\n",
      "17/17 [==============================] - 0s 3ms/step - loss: 0.3357 - mean_squared_error: 0.3268\n",
      "Epoch 48/140\n",
      "17/17 [==============================] - 0s 3ms/step - loss: 0.3368 - mean_squared_error: 0.3279\n",
      "Epoch 49/140\n",
      "17/17 [==============================] - 0s 3ms/step - loss: 0.3360 - mean_squared_error: 0.3271\n",
      "Epoch 50/140\n",
      "17/17 [==============================] - 0s 3ms/step - loss: 0.3357 - mean_squared_error: 0.3270\n",
      "Epoch 51/140\n",
      "17/17 [==============================] - 0s 3ms/step - loss: 0.3358 - mean_squared_error: 0.3270\n",
      "Epoch 52/140\n",
      "17/17 [==============================] - 0s 3ms/step - loss: 0.3349 - mean_squared_error: 0.3260\n",
      "Epoch 53/140\n",
      "17/17 [==============================] - 0s 3ms/step - loss: 0.3354 - mean_squared_error: 0.3267\n",
      "Epoch 54/140\n",
      "17/17 [==============================] - 0s 3ms/step - loss: 0.3349 - mean_squared_error: 0.3262\n",
      "Epoch 55/140\n",
      "17/17 [==============================] - 0s 3ms/step - loss: 0.3358 - mean_squared_error: 0.3271\n",
      "Epoch 56/140\n",
      "17/17 [==============================] - 0s 3ms/step - loss: 0.3350 - mean_squared_error: 0.3263\n",
      "Epoch 57/140\n",
      "17/17 [==============================] - 0s 3ms/step - loss: 0.3350 - mean_squared_error: 0.3263\n",
      "Epoch 58/140\n",
      "17/17 [==============================] - 0s 3ms/step - loss: 0.3356 - mean_squared_error: 0.3270\n",
      "Epoch 59/140\n",
      "17/17 [==============================] - 0s 3ms/step - loss: 0.3350 - mean_squared_error: 0.3264\n",
      "Epoch 60/140\n",
      "17/17 [==============================] - 0s 4ms/step - loss: 0.3343 - mean_squared_error: 0.3257\n",
      "Epoch 61/140\n",
      "17/17 [==============================] - 0s 4ms/step - loss: 0.3342 - mean_squared_error: 0.3257\n",
      "Epoch 62/140\n",
      "17/17 [==============================] - 0s 4ms/step - loss: 0.3352 - mean_squared_error: 0.3268\n",
      "Epoch 63/140\n",
      "17/17 [==============================] - 0s 3ms/step - loss: 0.3352 - mean_squared_error: 0.3268\n",
      "Epoch 64/140\n",
      "17/17 [==============================] - 0s 3ms/step - loss: 0.3340 - mean_squared_error: 0.3255\n",
      "Epoch 65/140\n",
      "17/17 [==============================] - 0s 4ms/step - loss: 0.3339 - mean_squared_error: 0.3255\n",
      "Epoch 66/140\n",
      "17/17 [==============================] - 0s 4ms/step - loss: 0.3345 - mean_squared_error: 0.3261\n",
      "Epoch 67/140\n",
      "17/17 [==============================] - 0s 4ms/step - loss: 0.3360 - mean_squared_error: 0.3277\n",
      "Epoch 68/140\n",
      "17/17 [==============================] - 0s 4ms/step - loss: 0.3348 - mean_squared_error: 0.3266\n",
      "Epoch 69/140\n",
      "17/17 [==============================] - 0s 3ms/step - loss: 0.3334 - mean_squared_error: 0.3252\n",
      "Epoch 70/140\n",
      "17/17 [==============================] - 0s 3ms/step - loss: 0.3349 - mean_squared_error: 0.3266\n",
      "Epoch 71/140\n",
      "17/17 [==============================] - 0s 3ms/step - loss: 0.3338 - mean_squared_error: 0.3256\n",
      "Epoch 72/140\n",
      "17/17 [==============================] - 0s 4ms/step - loss: 0.3341 - mean_squared_error: 0.3259\n",
      "Epoch 73/140\n",
      "17/17 [==============================] - 0s 4ms/step - loss: 0.3339 - mean_squared_error: 0.3257\n",
      "Epoch 74/140\n",
      "17/17 [==============================] - 0s 4ms/step - loss: 0.3351 - mean_squared_error: 0.3269\n",
      "Epoch 75/140\n",
      "17/17 [==============================] - 0s 4ms/step - loss: 0.3340 - mean_squared_error: 0.3259\n",
      "Epoch 76/140\n",
      "17/17 [==============================] - 0s 4ms/step - loss: 0.3343 - mean_squared_error: 0.3262\n",
      "Epoch 77/140\n",
      "17/17 [==============================] - 0s 3ms/step - loss: 0.3343 - mean_squared_error: 0.3261\n",
      "Epoch 78/140\n",
      "17/17 [==============================] - 0s 4ms/step - loss: 0.3345 - mean_squared_error: 0.3264\n",
      "Epoch 79/140\n",
      "17/17 [==============================] - 0s 4ms/step - loss: 0.3343 - mean_squared_error: 0.3262\n",
      "Epoch 80/140\n",
      "17/17 [==============================] - 0s 4ms/step - loss: 0.3331 - mean_squared_error: 0.3251\n",
      "Epoch 81/140\n",
      "17/17 [==============================] - 0s 4ms/step - loss: 0.3334 - mean_squared_error: 0.3254\n",
      "Epoch 82/140\n",
      "17/17 [==============================] - 0s 4ms/step - loss: 0.3328 - mean_squared_error: 0.3248\n",
      "Epoch 83/140\n",
      "17/17 [==============================] - 0s 4ms/step - loss: 0.3342 - mean_squared_error: 0.3263\n",
      "Epoch 84/140\n",
      "17/17 [==============================] - 0s 4ms/step - loss: 0.3340 - mean_squared_error: 0.3260\n",
      "Epoch 85/140\n",
      "17/17 [==============================] - 0s 4ms/step - loss: 0.3341 - mean_squared_error: 0.3262\n",
      "Epoch 86/140\n",
      "17/17 [==============================] - 0s 4ms/step - loss: 0.3335 - mean_squared_error: 0.3256\n",
      "Epoch 87/140\n",
      "17/17 [==============================] - 0s 4ms/step - loss: 0.3345 - mean_squared_error: 0.3266\n",
      "Epoch 88/140\n",
      "17/17 [==============================] - 0s 4ms/step - loss: 0.3346 - mean_squared_error: 0.3267\n",
      "Epoch 89/140\n",
      "17/17 [==============================] - 0s 4ms/step - loss: 0.3336 - mean_squared_error: 0.3257\n",
      "Epoch 90/140\n",
      "17/17 [==============================] - 0s 3ms/step - loss: 0.3334 - mean_squared_error: 0.3255\n",
      "Epoch 91/140\n",
      "17/17 [==============================] - 0s 4ms/step - loss: 0.3344 - mean_squared_error: 0.3266\n",
      "Epoch 92/140\n",
      "17/17 [==============================] - 0s 4ms/step - loss: 0.3338 - mean_squared_error: 0.3260\n",
      "Epoch 93/140\n",
      "17/17 [==============================] - 0s 3ms/step - loss: 0.3330 - mean_squared_error: 0.3252\n",
      "Epoch 94/140\n",
      "17/17 [==============================] - 0s 4ms/step - loss: 0.3342 - mean_squared_error: 0.3265\n",
      "Epoch 95/140\n",
      "17/17 [==============================] - 0s 3ms/step - loss: 0.3355 - mean_squared_error: 0.3277\n",
      "Epoch 96/140\n",
      "17/17 [==============================] - 0s 3ms/step - loss: 0.3354 - mean_squared_error: 0.3276\n",
      "Epoch 97/140\n",
      "17/17 [==============================] - 0s 4ms/step - loss: 0.3330 - mean_squared_error: 0.3252\n",
      "Epoch 98/140\n",
      "17/17 [==============================] - 0s 4ms/step - loss: 0.3322 - mean_squared_error: 0.3245\n",
      "Epoch 99/140\n",
      "17/17 [==============================] - 0s 4ms/step - loss: 0.3341 - mean_squared_error: 0.3264\n",
      "Epoch 100/140\n",
      "17/17 [==============================] - 0s 4ms/step - loss: 0.3330 - mean_squared_error: 0.3253\n",
      "Epoch 101/140\n",
      "17/17 [==============================] - 0s 4ms/step - loss: 0.3326 - mean_squared_error: 0.3249\n",
      "Epoch 102/140\n",
      "17/17 [==============================] - 0s 4ms/step - loss: 0.3331 - mean_squared_error: 0.3254\n",
      "Epoch 103/140\n",
      "17/17 [==============================] - 0s 4ms/step - loss: 0.3329 - mean_squared_error: 0.3253\n",
      "Epoch 104/140\n",
      "17/17 [==============================] - 0s 4ms/step - loss: 0.3332 - mean_squared_error: 0.3256\n",
      "Epoch 105/140\n",
      "17/17 [==============================] - 0s 4ms/step - loss: 0.3333 - mean_squared_error: 0.3256\n",
      "Epoch 106/140\n",
      "17/17 [==============================] - 0s 4ms/step - loss: 0.3334 - mean_squared_error: 0.3257\n",
      "Epoch 107/140\n",
      "17/17 [==============================] - 0s 3ms/step - loss: 0.3323 - mean_squared_error: 0.3247\n",
      "Epoch 108/140\n",
      "17/17 [==============================] - 0s 4ms/step - loss: 0.3321 - mean_squared_error: 0.3246\n",
      "Epoch 109/140\n",
      "17/17 [==============================] - 0s 4ms/step - loss: 0.3327 - mean_squared_error: 0.3252\n",
      "Epoch 110/140\n",
      "17/17 [==============================] - 0s 4ms/step - loss: 0.3320 - mean_squared_error: 0.3245\n",
      "Epoch 111/140\n",
      "17/17 [==============================] - 0s 4ms/step - loss: 0.3328 - mean_squared_error: 0.3253\n",
      "Epoch 112/140\n",
      "17/17 [==============================] - 0s 4ms/step - loss: 0.3327 - mean_squared_error: 0.3252\n",
      "Epoch 113/140\n",
      "17/17 [==============================] - 0s 3ms/step - loss: 0.3334 - mean_squared_error: 0.3260\n",
      "Epoch 114/140\n",
      "17/17 [==============================] - 0s 4ms/step - loss: 0.3347 - mean_squared_error: 0.3271\n",
      "Epoch 115/140\n",
      "17/17 [==============================] - 0s 4ms/step - loss: 0.3317 - mean_squared_error: 0.3242\n",
      "Epoch 116/140\n",
      "17/17 [==============================] - 0s 3ms/step - loss: 0.3329 - mean_squared_error: 0.3254\n",
      "Epoch 117/140\n",
      "17/17 [==============================] - 0s 4ms/step - loss: 0.3327 - mean_squared_error: 0.3253\n",
      "Epoch 118/140\n",
      "17/17 [==============================] - 0s 4ms/step - loss: 0.3324 - mean_squared_error: 0.3249\n",
      "Epoch 119/140\n",
      "17/17 [==============================] - 0s 4ms/step - loss: 0.3328 - mean_squared_error: 0.3254\n",
      "Epoch 120/140\n",
      "17/17 [==============================] - 0s 4ms/step - loss: 0.3324 - mean_squared_error: 0.3250\n",
      "Epoch 121/140\n",
      "17/17 [==============================] - 0s 4ms/step - loss: 0.3320 - mean_squared_error: 0.3245\n",
      "Epoch 122/140\n",
      "17/17 [==============================] - 0s 4ms/step - loss: 0.3308 - mean_squared_error: 0.3234\n",
      "Epoch 123/140\n",
      "17/17 [==============================] - 0s 4ms/step - loss: 0.3322 - mean_squared_error: 0.3248\n",
      "Epoch 124/140\n",
      "17/17 [==============================] - 0s 4ms/step - loss: 0.3329 - mean_squared_error: 0.3256\n",
      "Epoch 125/140\n",
      "17/17 [==============================] - 0s 4ms/step - loss: 0.3333 - mean_squared_error: 0.3259\n",
      "Epoch 126/140\n",
      "17/17 [==============================] - 0s 4ms/step - loss: 0.3325 - mean_squared_error: 0.3251\n",
      "Epoch 127/140\n",
      "17/17 [==============================] - 0s 4ms/step - loss: 0.3331 - mean_squared_error: 0.3258\n",
      "Epoch 128/140\n",
      "17/17 [==============================] - 0s 4ms/step - loss: 0.3320 - mean_squared_error: 0.3246\n",
      "Epoch 129/140\n",
      "17/17 [==============================] - 0s 4ms/step - loss: 0.3325 - mean_squared_error: 0.3253\n",
      "Epoch 130/140\n",
      "17/17 [==============================] - 0s 4ms/step - loss: 0.3313 - mean_squared_error: 0.3240\n",
      "Epoch 131/140\n",
      "17/17 [==============================] - 0s 4ms/step - loss: 0.3323 - mean_squared_error: 0.3249\n",
      "Epoch 132/140\n",
      "17/17 [==============================] - 0s 4ms/step - loss: 0.3321 - mean_squared_error: 0.3248\n",
      "Epoch 133/140\n",
      "17/17 [==============================] - 0s 4ms/step - loss: 0.3317 - mean_squared_error: 0.3244\n",
      "Epoch 134/140\n",
      "17/17 [==============================] - 0s 4ms/step - loss: 0.3320 - mean_squared_error: 0.3247\n",
      "Epoch 135/140\n",
      "17/17 [==============================] - 0s 4ms/step - loss: 0.3315 - mean_squared_error: 0.3242\n",
      "Epoch 136/140\n",
      "17/17 [==============================] - 0s 4ms/step - loss: 0.3326 - mean_squared_error: 0.3253\n",
      "Epoch 137/140\n",
      "17/17 [==============================] - 0s 3ms/step - loss: 0.3331 - mean_squared_error: 0.3258\n",
      "Epoch 138/140\n",
      "17/17 [==============================] - 0s 4ms/step - loss: 0.3370 - mean_squared_error: 0.3298\n",
      "Epoch 139/140\n",
      "17/17 [==============================] - 0s 3ms/step - loss: 0.3333 - mean_squared_error: 0.3260\n",
      "Epoch 140/140\n",
      "17/17 [==============================] - 0s 4ms/step - loss: 0.3320 - mean_squared_error: 0.3248\n"
     ]
    },
    {
     "data": {
      "image/png": "[encoded data removed]",
      "text/plain": [
       "<Figure size 432x288 with 1 Axes>"
      ]
     },
     "metadata": {
      "needs_background": "light"
     },
     "output_type": "display_data"
    },
    {
     "name": "stdout",
     "output_type": "stream",
     "text": [
      "3/3 [==============================] - 0s 4ms/step - loss: 0.3718 - mean_squared_error: 0.3646\n"
     ]
    },
    {
     "data": {
      "text/plain": [
       "[0.37176188826560974, 0.3645736575126648]"
      ]
     },
     "execution_count": 11,
     "metadata": {},
     "output_type": "execute_result"
    }
   ],
   "source": [
    "### Calling the above functions to build and train the model\n",
    "learning_rate = 0.007\n",
    "epochs = 140\n",
    "batch_size = 1000\n",
    "label_name = \"median_house_value\"\n",
    "\n",
    "my_model = create_model(learning_rate, my_feature_layer)\n",
    "\n",
    "epochs, mse = train_model(my_model, train_df_norm, epochs, label_name, batch_size)\n",
    "plot_the_loss_curve(epochs, mse)\n",
    "\n",
    "test_features = {name:np.array(value) for name,value in test_df_norm.items()}\n",
    "test_label = np.array(test_features.pop(label_name))\n",
    "# Evaluate the new model\n",
    "my_model.evaluate(x=test_features, y=test_label, batch_size=batch_size)"
   ]
  },
  {
   "cell_type": "code",
   "execution_count": null,
   "id": "f505e42b",
   "metadata": {
    "papermill": {
     "duration": 0.196173,
     "end_time": "2022-02-18T15:36:58.013111",
     "exception": false,
     "start_time": "2022-02-18T15:36:57.816938",
     "status": "completed"
    },
    "tags": []
   },
   "outputs": [],
   "source": []
  }
 ],
 "metadata": {
  "kernelspec": {
   "display_name": "Python 3",
   "language": "python",
   "name": "python3"
  },
  "language_info": {
   "codemirror_mode": {
    "name": "ipython",
    "version": 3
   },
   "file_extension": ".py",
   "mimetype": "text/x-python",
   "name": "python",
   "nbconvert_exporter": "python",
   "pygments_lexer": "ipython3",
   "version": "3.7.12"
  },
  "papermill": {
   "default_parameters": {},
   "duration": 35.227977,
   "end_time": "2022-02-18T15:37:01.775512",
   "environment_variables": {},
   "exception": null,
   "input_path": "__notebook__.ipynb",
   "output_path": "__notebook__.ipynb",
   "parameters": {},
   "start_time": "2022-02-18T15:36:26.547535",
   "version": "2.3.3"
  }
 },
 "nbformat": 4,
 "nbformat_minor": 5
}
