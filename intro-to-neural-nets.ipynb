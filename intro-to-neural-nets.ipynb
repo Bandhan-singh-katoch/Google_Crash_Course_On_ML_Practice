{
 "cells": [
  {
   "cell_type": "code",
   "execution_count": 1,
   "id": "fc4415d1",
   "metadata": {
    "execution": {
     "iopub.execute_input": "2022-02-17T18:49:44.060135Z",
     "iopub.status.busy": "2022-02-17T18:49:44.059327Z",
     "iopub.status.idle": "2022-02-17T18:49:44.063400Z",
     "shell.execute_reply": "2022-02-17T18:49:44.062695Z",
     "shell.execute_reply.started": "2022-02-17T18:08:43.849233Z"
    },
    "papermill": {
     "duration": 0.03045,
     "end_time": "2022-02-17T18:49:44.063608",
     "exception": false,
     "start_time": "2022-02-17T18:49:44.033158",
     "status": "completed"
    },
    "tags": []
   },
   "outputs": [],
   "source": [
    "from __future__ import absolute_import, division, print_function, unicode_literals"
   ]
  },
  {
   "cell_type": "code",
   "execution_count": 2,
   "id": "7ffd2dbf",
   "metadata": {
    "_cell_guid": "b1076dfc-b9ad-4769-8c92-a6c4dae69d19",
    "_uuid": "8f2839f25d086af736a60e9eeb907d3b93b6e0e5",
    "execution": {
     "iopub.execute_input": "2022-02-17T18:49:44.095855Z",
     "iopub.status.busy": "2022-02-17T18:49:44.095200Z",
     "iopub.status.idle": "2022-02-17T18:49:51.191753Z",
     "shell.execute_reply": "2022-02-17T18:49:51.192283Z",
     "shell.execute_reply.started": "2022-02-17T18:08:43.862069Z"
    },
    "papermill": {
     "duration": 7.114261,
     "end_time": "2022-02-17T18:49:51.192490",
     "exception": false,
     "start_time": "2022-02-17T18:49:44.078229",
     "status": "completed"
    },
    "tags": []
   },
   "outputs": [],
   "source": [
    "import numpy as np\n",
    "import pandas as pd\n",
    "import tensorflow as tf\n",
    "from tensorflow.keras import layers\n",
    "from matplotlib import pyplot as plt\n",
    "import seaborn as sns\n",
    "\n",
    "pd.options.display.max_rows = 10\n",
    "pd.options.display.float_format = \"{:.1f}\".format"
   ]
  },
  {
   "cell_type": "code",
   "execution_count": 3,
   "id": "f7866d68",
   "metadata": {
    "execution": {
     "iopub.execute_input": "2022-02-17T18:49:51.225540Z",
     "iopub.status.busy": "2022-02-17T18:49:51.224396Z",
     "iopub.status.idle": "2022-02-17T18:49:51.329135Z",
     "shell.execute_reply": "2022-02-17T18:49:51.329615Z",
     "shell.execute_reply.started": "2022-02-17T18:08:43.878364Z"
    },
    "papermill": {
     "duration": 0.123415,
     "end_time": "2022-02-17T18:49:51.329816",
     "exception": false,
     "start_time": "2022-02-17T18:49:51.206401",
     "status": "completed"
    },
    "tags": []
   },
   "outputs": [],
   "source": [
    "train_df = pd.read_csv(\"../input/google-machine-learning-crash-course/california_housing_train (5).xls\")\n",
    "test_df = pd.read_csv(\"../input/google-machine-learning-crash-course/california_housing_test (2).csv\")\n",
    "\n",
    "# Shuffling the data\n",
    "train_df = train_df.reindex(np.random.permutation(train_df.index))"
   ]
  },
  {
   "cell_type": "code",
   "execution_count": 4,
   "id": "06857299",
   "metadata": {
    "execution": {
     "iopub.execute_input": "2022-02-17T18:49:51.365595Z",
     "iopub.status.busy": "2022-02-17T18:49:51.364583Z",
     "iopub.status.idle": "2022-02-17T18:49:51.373910Z",
     "shell.execute_reply": "2022-02-17T18:49:51.374486Z",
     "shell.execute_reply.started": "2022-02-17T18:08:43.930342Z"
    },
    "papermill": {
     "duration": 0.029954,
     "end_time": "2022-02-17T18:49:51.374690",
     "exception": false,
     "start_time": "2022-02-17T18:49:51.344736",
     "status": "completed"
    },
    "tags": []
   },
   "outputs": [],
   "source": [
    "# Convert raw value to their Z-score\n",
    "train_df_mean = train_df.mean()\n",
    "train_df_std = train_df.std()\n",
    "train_df_norm = (train_df - train_df_mean)/train_df_std\n",
    "\n",
    "test_df_mean = test_df.mean()\n",
    "test_df_std = test_df.std()\n",
    "test_df_norm = (test_df - test_df_mean)/test_df_std"
   ]
  },
  {
   "cell_type": "code",
   "execution_count": 5,
   "id": "3a0db43a",
   "metadata": {
    "execution": {
     "iopub.execute_input": "2022-02-17T18:49:51.411410Z",
     "iopub.status.busy": "2022-02-17T18:49:51.410362Z",
     "iopub.status.idle": "2022-02-17T18:49:51.461993Z",
     "shell.execute_reply": "2022-02-17T18:49:51.461283Z",
     "shell.execute_reply.started": "2022-02-17T18:08:43.944837Z"
    },
    "papermill": {
     "duration": 0.073534,
     "end_time": "2022-02-17T18:49:51.462140",
     "exception": false,
     "start_time": "2022-02-17T18:49:51.388606",
     "status": "completed"
    },
    "tags": []
   },
   "outputs": [],
   "source": [
    "# This cell code creates feature layer constaining three features\n",
    "feature_columns = []\n",
    "\n",
    "# resolution in Z's\n",
    "resolution_in_Zs = 0.3\n",
    "\n",
    "# Create a bucket feature column for latitude\n",
    "latitude_as_a_numeric_column = tf.feature_column.numeric_column(\"latitude\")\n",
    "latitude_boundaries = list(np.arange(int(min(train_df_norm[\"latitude\"])),\n",
    "                                     int(max(train_df_norm[\"latitude\"])),\n",
    "                                     resolution_in_Zs))\n",
    "latitude = tf.feature_column.bucketized_column(latitude_as_a_numeric_column, latitude_boundaries)\n",
    "\n",
    "# Create a bucket feature column for longitude\n",
    "longitude_as_a_numeric_column = tf.feature_column.numeric_column(\"longitude\")\n",
    "longitude_boundaries = list(np.arange(int(min(train_df_norm[\"longitude\"])),\n",
    "                                      int(max(train_df_norm[\"longitude\"])),\n",
    "                                      resolution_in_Zs))\n",
    "longitude = tf.feature_column.bucketized_column(longitude_as_a_numeric_column, longitude_boundaries)\n",
    "\n",
    "# Create feature cross of latitude and longitude\n",
    "latitude_x_longitude = tf.feature_column.crossed_column([latitude, longitude], hash_bucket_size=100)\n",
    "crossed_feature = tf.feature_column.indicator_column(latitude_x_longitude)\n",
    "feature_columns.append(crossed_feature)\n",
    "\n",
    "# Represent median_income and population as floting point value\n",
    "median_income = tf.feature_column.numeric_column(\"median_income\")\n",
    "feature_columns.append(median_income)\n",
    "\n",
    "population = tf.feature_column.numeric_column(\"population\")\n",
    "feature_columns.append(population)\n",
    "\n",
    "# Convert these feature columns into a layer\n",
    "my_feature_layer = tf.keras.layers.DenseFeatures(feature_columns)"
   ]
  },
  {
   "cell_type": "markdown",
   "id": "b8517e5f",
   "metadata": {
    "papermill": {
     "duration": 0.013266,
     "end_time": "2022-02-17T18:49:51.489203",
     "exception": false,
     "start_time": "2022-02-17T18:49:51.475937",
     "status": "completed"
    },
    "tags": []
   },
   "source": [
    "**Build a Linear Regression model as a baseline**"
   ]
  },
  {
   "cell_type": "code",
   "execution_count": 6,
   "id": "6a5e9e89",
   "metadata": {
    "execution": {
     "iopub.execute_input": "2022-02-17T18:49:51.520299Z",
     "iopub.status.busy": "2022-02-17T18:49:51.519332Z",
     "iopub.status.idle": "2022-02-17T18:49:51.525082Z",
     "shell.execute_reply": "2022-02-17T18:49:51.525691Z",
     "shell.execute_reply.started": "2022-02-17T18:08:43.975133Z"
    },
    "papermill": {
     "duration": 0.022981,
     "end_time": "2022-02-17T18:49:51.525871",
     "exception": false,
     "start_time": "2022-02-17T18:49:51.502890",
     "status": "completed"
    },
    "tags": []
   },
   "outputs": [],
   "source": [
    "# Define the plotting function (loss vs epoch)\n",
    "def plot_the_loss_curve(epochs, mse):\n",
    "    plt.figure()\n",
    "    plt.xlabel(\"Epoch\")\n",
    "    plt.ylabel(\"Mean Squared Error\")\n",
    "    \n",
    "    plt.plot(epochs, mse, label=\"Loss\")\n",
    "    plt.legend()\n",
    "    plt.ylim([mse.min()*0.95, mse.max()*1.03])\n",
    "    plt.show()\n",
    "    "
   ]
  },
  {
   "cell_type": "code",
   "execution_count": 7,
   "id": "27bcbb4a",
   "metadata": {
    "execution": {
     "iopub.execute_input": "2022-02-17T18:49:51.557201Z",
     "iopub.status.busy": "2022-02-17T18:49:51.556253Z",
     "iopub.status.idle": "2022-02-17T18:49:51.560424Z",
     "shell.execute_reply": "2022-02-17T18:49:51.561073Z",
     "shell.execute_reply.started": "2022-02-17T18:08:43.983859Z"
    },
    "papermill": {
     "duration": 0.021484,
     "end_time": "2022-02-17T18:49:51.561243",
     "exception": false,
     "start_time": "2022-02-17T18:49:51.539759",
     "status": "completed"
    },
    "tags": []
   },
   "outputs": [],
   "source": [
    "# # Define functions to create and train a linear regression model\n",
    "# def create_model(my_learning_rate, feature_layer):\n",
    "#     model = tf.keras.models.Sequential()\n",
    "#     model.add(feature_layer)\n",
    "    \n",
    "#     model.add(tf.keras.layers.Dense(units=1, input_shape=(1,)))\n",
    "    \n",
    "#     model.compile(optimizer=tf.keras.optimizers.RMSprop(learning_rate=my_learning_rate),\n",
    "#                   loss=\"mean_squared_error\",\n",
    "#                   metrics=[tf.keras.metrics.MeanSquaredError()])\n",
    "    \n",
    "#     return model\n",
    "\n",
    "# def train_model(model, dataset, epochs, batch_size, label_name):\n",
    "#     features = {name:np.array(value) for name, value in dataset.items()}\n",
    "#     label = np.array(features.pop(label_name))\n",
    "#     history = model.fit(x=features, y=label, batch_size=batch_size, epochs=epochs, shuffle=True)\n",
    "    \n",
    "#     epochs = history.epoch\n",
    "#     hist = pd.DataFrame(history.history)\n",
    "#     rmse = hist[\"mean_squared_error\"]\n",
    "    \n",
    "#     return epochs, rmse\n"
   ]
  },
  {
   "cell_type": "code",
   "execution_count": 8,
   "id": "75d0d74e",
   "metadata": {
    "execution": {
     "iopub.execute_input": "2022-02-17T18:49:51.592715Z",
     "iopub.status.busy": "2022-02-17T18:49:51.591762Z",
     "iopub.status.idle": "2022-02-17T18:49:51.595398Z",
     "shell.execute_reply": "2022-02-17T18:49:51.595909Z",
     "shell.execute_reply.started": "2022-02-17T18:08:44.004833Z"
    },
    "papermill": {
     "duration": 0.021086,
     "end_time": "2022-02-17T18:49:51.596081",
     "exception": false,
     "start_time": "2022-02-17T18:49:51.574995",
     "status": "completed"
    },
    "tags": []
   },
   "outputs": [],
   "source": [
    "# # Calling the above functions\n",
    "# learning_rate = 0.01\n",
    "# epochs = 15\n",
    "# batch_size = 1000\n",
    "# label_name = \"median_house_value\"\n",
    "\n",
    "# my_model = create_model(learning_rate, my_feature_layer)\n",
    "\n",
    "# epochs, mse = train_model(my_model, train_df_norm, epochs, batch_size, label_name)\n",
    "# plot_the_loss_curve(epochs, mse)\n",
    "\n",
    "# test_features = {name:np.array(value) for name,value in test_df_norm.items()}\n",
    "# test_label = np.array(test_features.pop(label_name))\n",
    "# # Evaluate the linear regression model\n",
    "# my_model.evaluate(x=test_features, y=test_label, batch_size=batch_size)"
   ]
  },
  {
   "cell_type": "markdown",
   "id": "c953db70",
   "metadata": {
    "papermill": {
     "duration": 0.013484,
     "end_time": "2022-02-17T18:49:51.623039",
     "exception": false,
     "start_time": "2022-02-17T18:49:51.609555",
     "status": "completed"
    },
    "tags": []
   },
   "source": [
    "**Define a deep neural net model**"
   ]
  },
  {
   "cell_type": "code",
   "execution_count": 9,
   "id": "56b9efd4",
   "metadata": {
    "execution": {
     "iopub.execute_input": "2022-02-17T18:49:51.654503Z",
     "iopub.status.busy": "2022-02-17T18:49:51.653864Z",
     "iopub.status.idle": "2022-02-17T18:49:51.660729Z",
     "shell.execute_reply": "2022-02-17T18:49:51.661230Z",
     "shell.execute_reply.started": "2022-02-17T18:47:43.096509Z"
    },
    "papermill": {
     "duration": 0.024565,
     "end_time": "2022-02-17T18:49:51.661401",
     "exception": false,
     "start_time": "2022-02-17T18:49:51.636836",
     "status": "completed"
    },
    "tags": []
   },
   "outputs": [],
   "source": [
    "def create_model(my_learning_rate, my_feature_layer):\n",
    "    model = tf.keras.models.Sequential()\n",
    "    model.add(my_feature_layer)\n",
    "    \n",
    "    # Define 1st hidden layer with 20 nodes\n",
    "    model.add(tf.keras.layers.Dense(units=10, activation='relu', name='Hidden1'))\n",
    "    \n",
    "    # Sim. define hidden layer 2 and the output layer\n",
    "    model.add(tf.keras.layers.Dense(units=6, activation='relu', name='Hidden2'))\n",
    "    \n",
    "    model.add(tf.keras.layers.Dense(units=1, name='Output'))\n",
    "    \n",
    "    model.compile(optimizer=tf.keras.optimizers.Adam(learning_rate=my_learning_rate),\n",
    "                  loss=\"mean_squared_error\",\n",
    "                  metrics=[tf.keras.metrics.MeanSquaredError()])\n",
    "    \n",
    "    return model\n"
   ]
  },
  {
   "cell_type": "code",
   "execution_count": 10,
   "id": "947e4353",
   "metadata": {
    "execution": {
     "iopub.execute_input": "2022-02-17T18:49:51.692338Z",
     "iopub.status.busy": "2022-02-17T18:49:51.691706Z",
     "iopub.status.idle": "2022-02-17T18:49:51.698676Z",
     "shell.execute_reply": "2022-02-17T18:49:51.699214Z",
     "shell.execute_reply.started": "2022-02-17T18:42:44.123825Z"
    },
    "papermill": {
     "duration": 0.024364,
     "end_time": "2022-02-17T18:49:51.699390",
     "exception": false,
     "start_time": "2022-02-17T18:49:51.675026",
     "status": "completed"
    },
    "tags": []
   },
   "outputs": [],
   "source": [
    "# training function\n",
    "def train_model(model, dataset, epochs, label_name, batch_size=None):\n",
    "    features = {name:np.array(value) for name, value in dataset.items()}\n",
    "    label = np.array(features.pop(label_name))\n",
    "    history = model.fit(x=features, y=label, batch_size=batch_size, epochs=epochs, shuffle=True)\n",
    "    \n",
    "    epochs = history.epoch\n",
    "    hist = pd.DataFrame(history.history)\n",
    "    mse = hist[\"mean_squared_error\"]\n",
    "    \n",
    "    return epochs, mse"
   ]
  },
  {
   "cell_type": "code",
   "execution_count": 11,
   "id": "7741f66a",
   "metadata": {
    "execution": {
     "iopub.execute_input": "2022-02-17T18:49:51.736485Z",
     "iopub.status.busy": "2022-02-17T18:49:51.735825Z",
     "iopub.status.idle": "2022-02-17T18:49:54.732378Z",
     "shell.execute_reply": "2022-02-17T18:49:54.732886Z",
     "shell.execute_reply.started": "2022-02-17T18:47:57.493900Z"
    },
    "papermill": {
     "duration": 3.020009,
     "end_time": "2022-02-17T18:49:54.733065",
     "exception": false,
     "start_time": "2022-02-17T18:49:51.713056",
     "status": "completed"
    },
    "tags": []
   },
   "outputs": [
    {
     "name": "stderr",
     "output_type": "stream",
     "text": [
      "2022-02-17 18:49:51.750258: I tensorflow/core/common_runtime/process_util.cc:146] Creating new thread pool with default inter op setting: 2. Tune using inter_op_parallelism_threads for best performance.\n",
      "2022-02-17 18:49:51.898189: I tensorflow/compiler/mlir/mlir_graph_optimization_pass.cc:185] None of the MLIR Optimization Passes are enabled (registered 2)\n"
     ]
    },
    {
     "name": "stdout",
     "output_type": "stream",
     "text": [
      "Epoch 1/20\n",
      "17/17 [==============================] - 1s 4ms/step - loss: 0.8235 - mean_squared_error: 0.8235\n",
      "Epoch 2/20\n",
      "17/17 [==============================] - 0s 4ms/step - loss: 0.4204 - mean_squared_error: 0.4204\n",
      "Epoch 3/20\n",
      "17/17 [==============================] - 0s 3ms/step - loss: 0.3527 - mean_squared_error: 0.3527\n",
      "Epoch 4/20\n",
      "17/17 [==============================] - 0s 4ms/step - loss: 0.3425 - mean_squared_error: 0.3425\n",
      "Epoch 5/20\n",
      "17/17 [==============================] - 0s 3ms/step - loss: 0.3393 - mean_squared_error: 0.3393\n",
      "Epoch 6/20\n",
      "17/17 [==============================] - 0s 3ms/step - loss: 0.3374 - mean_squared_error: 0.3374\n",
      "Epoch 7/20\n",
      "17/17 [==============================] - 0s 3ms/step - loss: 0.3363 - mean_squared_error: 0.3363\n",
      "Epoch 8/20\n",
      "17/17 [==============================] - 0s 4ms/step - loss: 0.3351 - mean_squared_error: 0.3351\n",
      "Epoch 9/20\n",
      "17/17 [==============================] - 0s 4ms/step - loss: 0.3340 - mean_squared_error: 0.3340\n",
      "Epoch 10/20\n",
      "17/17 [==============================] - 0s 4ms/step - loss: 0.3326 - mean_squared_error: 0.3326\n",
      "Epoch 11/20\n",
      "17/17 [==============================] - 0s 4ms/step - loss: 0.3323 - mean_squared_error: 0.3323\n",
      "Epoch 12/20\n",
      "17/17 [==============================] - 0s 4ms/step - loss: 0.3313 - mean_squared_error: 0.3313\n",
      "Epoch 13/20\n",
      "17/17 [==============================] - 0s 4ms/step - loss: 0.3298 - mean_squared_error: 0.3298\n",
      "Epoch 14/20\n",
      "17/17 [==============================] - 0s 4ms/step - loss: 0.3296 - mean_squared_error: 0.3296\n",
      "Epoch 15/20\n",
      "17/17 [==============================] - 0s 3ms/step - loss: 0.3298 - mean_squared_error: 0.3298\n",
      "Epoch 16/20\n",
      "17/17 [==============================] - 0s 4ms/step - loss: 0.3297 - mean_squared_error: 0.3297\n",
      "Epoch 17/20\n",
      "17/17 [==============================] - 0s 4ms/step - loss: 0.3298 - mean_squared_error: 0.3298\n",
      "Epoch 18/20\n",
      "17/17 [==============================] - 0s 4ms/step - loss: 0.3311 - mean_squared_error: 0.3311\n",
      "Epoch 19/20\n",
      "17/17 [==============================] - 0s 4ms/step - loss: 0.3288 - mean_squared_error: 0.3288\n",
      "Epoch 20/20\n",
      "17/17 [==============================] - 0s 3ms/step - loss: 0.3281 - mean_squared_error: 0.3281\n"
     ]
    },
    {
     "data": {
      "image/png": "[encoded data removed]",
      "text/plain": [
       "<Figure size 432x288 with 1 Axes>"
      ]
     },
     "metadata": {
      "needs_background": "light"
     },
     "output_type": "display_data"
    },
    {
     "name": "stdout",
     "output_type": "stream",
     "text": [
      "3/3 [==============================] - 0s 11ms/step - loss: 0.3684 - mean_squared_error: 0.3684\n"
     ]
    },
    {
     "data": {
      "text/plain": [
       "[0.36842676997184753, 0.36842676997184753]"
      ]
     },
     "execution_count": 11,
     "metadata": {},
     "output_type": "execute_result"
    }
   ],
   "source": [
    "# Calling the above functions to build and train the model\n",
    "learning_rate = 0.01\n",
    "epochs = 20\n",
    "batch_size = 1000\n",
    "label_name = \"median_house_value\"\n",
    "\n",
    "my_model = create_model(learning_rate, my_feature_layer)\n",
    "\n",
    "epochs, mse = train_model(my_model, train_df_norm, epochs, label_name, batch_size)\n",
    "plot_the_loss_curve(epochs, mse)\n",
    "\n",
    "test_features = {name:np.array(value) for name,value in test_df_norm.items()}\n",
    "test_label = np.array(test_features.pop(label_name))\n",
    "# Evaluate the new model\n",
    "my_model.evaluate(x=test_features, y=test_label, batch_size=batch_size)"
   ]
  }
 ],
 "metadata": {
  "kernelspec": {
   "display_name": "Python 3",
   "language": "python",
   "name": "python3"
  },
  "language_info": {
   "codemirror_mode": {
    "name": "ipython",
    "version": 3
   },
   "file_extension": ".py",
   "mimetype": "text/x-python",
   "name": "python",
   "nbconvert_exporter": "python",
   "pygments_lexer": "ipython3",
   "version": "3.7.12"
  },
  "papermill": {
   "default_parameters": {},
   "duration": 23.667638,
   "end_time": "2022-02-17T18:49:57.654221",
   "environment_variables": {},
   "exception": null,
   "input_path": "__notebook__.ipynb",
   "output_path": "__notebook__.ipynb",
   "parameters": {},
   "start_time": "2022-02-17T18:49:33.986583",
   "version": "2.3.3"
  }
 },
 "nbformat": 4,
 "nbformat_minor": 5
}
