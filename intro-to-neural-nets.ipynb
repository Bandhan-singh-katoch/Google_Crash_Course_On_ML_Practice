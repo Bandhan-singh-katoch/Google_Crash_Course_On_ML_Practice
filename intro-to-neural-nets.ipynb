{
 "cells": [
  {
   "cell_type": "code",
   "execution_count": 1,
   "id": "496db58b",
   "metadata": {
    "_cell_guid": "b1076dfc-b9ad-4769-8c92-a6c4dae69d19",
    "_uuid": "8f2839f25d086af736a60e9eeb907d3b93b6e0e5",
    "execution": {
     "iopub.execute_input": "2022-02-17T07:45:35.449065Z",
     "iopub.status.busy": "2022-02-17T07:45:35.447835Z",
     "iopub.status.idle": "2022-02-17T07:45:42.663009Z",
     "shell.execute_reply": "2022-02-17T07:45:42.662337Z",
     "shell.execute_reply.started": "2022-02-17T07:42:49.260933Z"
    },
    "papermill": {
     "duration": 7.225484,
     "end_time": "2022-02-17T07:45:42.663200",
     "exception": false,
     "start_time": "2022-02-17T07:45:35.437716",
     "status": "completed"
    },
    "tags": []
   },
   "outputs": [],
   "source": [
    "import numpy as np\n",
    "import pandas as pd\n",
    "import tensorflow as tf\n",
    "from tensorflow.keras import layers\n",
    "from matplotlib import pyplot as plt\n",
    "import seaborn as sns\n",
    "\n",
    "pd.options.display.max_rows = 10\n",
    "pd.options.display.float_format = \"{:.1f}\".format"
   ]
  },
  {
   "cell_type": "code",
   "execution_count": 2,
   "id": "e1d64e01",
   "metadata": {
    "execution": {
     "iopub.execute_input": "2022-02-17T07:45:42.682430Z",
     "iopub.status.busy": "2022-02-17T07:45:42.681711Z",
     "iopub.status.idle": "2022-02-17T07:45:42.776701Z",
     "shell.execute_reply": "2022-02-17T07:45:42.776100Z",
     "shell.execute_reply.started": "2022-02-17T07:42:49.276877Z"
    },
    "papermill": {
     "duration": 0.105851,
     "end_time": "2022-02-17T07:45:42.776856",
     "exception": false,
     "start_time": "2022-02-17T07:45:42.671005",
     "status": "completed"
    },
    "tags": []
   },
   "outputs": [],
   "source": [
    "train_df = pd.read_csv(\"../input/google-machine-learning-crash-course/california_housing_train (5).xls\")\n",
    "test_df = pd.read_csv(\"../input/google-machine-learning-crash-course/california_housing_test (2).csv\")\n",
    "\n",
    "# Shuffling the data\n",
    "train_df = train_df.reindex(np.random.permutation(train_df.index))"
   ]
  },
  {
   "cell_type": "code",
   "execution_count": 3,
   "id": "5829d5db",
   "metadata": {
    "execution": {
     "iopub.execute_input": "2022-02-17T07:45:42.794246Z",
     "iopub.status.busy": "2022-02-17T07:45:42.793603Z",
     "iopub.status.idle": "2022-02-17T07:45:42.803332Z",
     "shell.execute_reply": "2022-02-17T07:45:42.802771Z",
     "shell.execute_reply.started": "2022-02-17T07:42:49.321329Z"
    },
    "papermill": {
     "duration": 0.020823,
     "end_time": "2022-02-17T07:45:42.803478",
     "exception": false,
     "start_time": "2022-02-17T07:45:42.782655",
     "status": "completed"
    },
    "tags": []
   },
   "outputs": [],
   "source": [
    "# Convert raw value to their Z-score\n",
    "train_df_mean = train_df.mean()\n",
    "train_df_std = train_df.std()\n",
    "train_df_norm = (train_df - train_df_mean)/train_df_std\n",
    "\n",
    "test_df_mean = test_df.mean()\n",
    "test_df_std = test_df.std()\n",
    "test_df_norm = (test_df - test_df_mean)/test_df_std"
   ]
  },
  {
   "cell_type": "code",
   "execution_count": 4,
   "id": "7c282cdf",
   "metadata": {
    "execution": {
     "iopub.execute_input": "2022-02-17T07:45:42.817950Z",
     "iopub.status.busy": "2022-02-17T07:45:42.817302Z",
     "iopub.status.idle": "2022-02-17T07:45:42.874239Z",
     "shell.execute_reply": "2022-02-17T07:45:42.873600Z",
     "shell.execute_reply.started": "2022-02-17T07:42:49.334186Z"
    },
    "papermill": {
     "duration": 0.065281,
     "end_time": "2022-02-17T07:45:42.874402",
     "exception": false,
     "start_time": "2022-02-17T07:45:42.809121",
     "status": "completed"
    },
    "tags": []
   },
   "outputs": [],
   "source": [
    "# This cell code creates feature layers constaining three features\n",
    "feature_columns = []\n",
    "\n",
    "# resolution in Z's\n",
    "resolution_in_Zs = 0.3\n",
    "\n",
    "# Create a bucket feature column for latitude\n",
    "latitude_as_a_numeric_column = tf.feature_column.numeric_column(\"latitude\")\n",
    "latitude_boundaries = list(np.arange(int(min(train_df_norm[\"latitude\"])),\n",
    "                                     int(max(train_df_norm[\"latitude\"])),\n",
    "                                     resolution_in_Zs))\n",
    "latitude = tf.feature_column.bucketized_column(latitude_as_a_numeric_column, latitude_boundaries)\n",
    "\n",
    "# Create a bucket feature column for longitude\n",
    "longitude_as_a_numeric_column = tf.feature_column.numeric_column(\"longitude\")\n",
    "longitude_boundaries = list(np.arange(int(min(train_df_norm[\"longitude\"])),\n",
    "                                      int(max(train_df_norm[\"longitude\"])),\n",
    "                                      resolution_in_Zs))\n",
    "longitude = tf.feature_column.bucketized_column(longitude_as_a_numeric_column, longitude_boundaries)\n",
    "\n",
    "# Create feature cross of latitude and longitude\n",
    "latitude_x_longitude = tf.feature_column.crossed_column([latitude, longitude], hash_bucket_size=100)\n",
    "cross_feature = tf.feature_column.indicator_column(latitude_x_longitude)\n",
    "feature_columns.append(cross_feature)\n",
    "\n",
    "# Represent median_income and population as floting point value\n",
    "median_income = tf.feature_column.numeric_column(\"median_column\")\n",
    "feature_columns.append(median_income)\n",
    "\n",
    "population = tf.feature_column.numeric_column(\"population\")\n",
    "feature_columns.append(population)\n",
    "\n",
    "# Convert these feature columns into a layer\n",
    "my_feature_layer = tf.keras.layers.DenseFeatures(feature_columns)"
   ]
  }
 ],
 "metadata": {
  "kernelspec": {
   "display_name": "Python 3",
   "language": "python",
   "name": "python3"
  },
  "language_info": {
   "codemirror_mode": {
    "name": "ipython",
    "version": 3
   },
   "file_extension": ".py",
   "mimetype": "text/x-python",
   "name": "python",
   "nbconvert_exporter": "python",
   "pygments_lexer": "ipython3",
   "version": "3.7.12"
  },
  "papermill": {
   "default_parameters": {},
   "duration": 20.693333,
   "end_time": "2022-02-17T07:45:45.900798",
   "environment_variables": {},
   "exception": null,
   "input_path": "__notebook__.ipynb",
   "output_path": "__notebook__.ipynb",
   "parameters": {},
   "start_time": "2022-02-17T07:45:25.207465",
   "version": "2.3.3"
  }
 },
 "nbformat": 4,
 "nbformat_minor": 5
}
