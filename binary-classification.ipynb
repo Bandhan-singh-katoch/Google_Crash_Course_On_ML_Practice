{
 "cells": [
  {
   "cell_type": "code",
   "execution_count": 1,
   "id": "67d45cda",
   "metadata": {
    "_cell_guid": "b1076dfc-b9ad-4769-8c92-a6c4dae69d19",
    "_uuid": "8f2839f25d086af736a60e9eeb907d3b93b6e0e5",
    "execution": {
     "iopub.execute_input": "2022-02-15T18:50:08.377894Z",
     "iopub.status.busy": "2022-02-15T18:50:08.376643Z",
     "iopub.status.idle": "2022-02-15T18:50:14.836316Z",
     "shell.execute_reply": "2022-02-15T18:50:14.835066Z",
     "shell.execute_reply.started": "2022-02-15T18:48:49.616161Z"
    },
    "papermill": {
     "duration": 6.477153,
     "end_time": "2022-02-15T18:50:14.836510",
     "exception": false,
     "start_time": "2022-02-15T18:50:08.359357",
     "status": "completed"
    },
    "tags": []
   },
   "outputs": [],
   "source": [
    "import numpy as np\n",
    "import pandas as pd\n",
    "import tensorflow as tf\n",
    "from tensorflow.keras import layers\n",
    "from matplotlib import pyplot as plt\n",
    "\n",
    "pd.options.display.max_rows =10\n",
    "pd.options.display.float_format = \"{:.1f}\".format"
   ]
  },
  {
   "cell_type": "code",
   "execution_count": 2,
   "id": "78995666",
   "metadata": {
    "execution": {
     "iopub.execute_input": "2022-02-15T18:50:14.866528Z",
     "iopub.status.busy": "2022-02-15T18:50:14.865840Z",
     "iopub.status.idle": "2022-02-15T18:50:14.951309Z",
     "shell.execute_reply": "2022-02-15T18:50:14.950723Z",
     "shell.execute_reply.started": "2022-02-15T18:48:49.623768Z"
    },
    "papermill": {
     "duration": 0.102573,
     "end_time": "2022-02-15T18:50:14.951465",
     "exception": false,
     "start_time": "2022-02-15T18:50:14.848892",
     "status": "completed"
    },
    "tags": []
   },
   "outputs": [],
   "source": [
    "train_df = pd.read_csv(\"../input/google-machine-learning-crash-course/california_housing_train (5).xls\")\n",
    "test_df = pd.read_csv(\"../input/google-machine-learning-crash-course/california_housing_test (2).csv\")\n",
    "train_df = train_df.reindex(np.random.permutation(train_df.index))"
   ]
  },
  {
   "cell_type": "code",
   "execution_count": 3,
   "id": "215e9ff2",
   "metadata": {
    "execution": {
     "iopub.execute_input": "2022-02-15T18:50:14.980723Z",
     "iopub.status.busy": "2022-02-15T18:50:14.979993Z",
     "iopub.status.idle": "2022-02-15T18:50:15.002602Z",
     "shell.execute_reply": "2022-02-15T18:50:15.003247Z",
     "shell.execute_reply.started": "2022-02-15T18:48:49.681014Z"
    },
    "papermill": {
     "duration": 0.039891,
     "end_time": "2022-02-15T18:50:15.003437",
     "exception": false,
     "start_time": "2022-02-15T18:50:14.963546",
     "status": "completed"
    },
    "tags": []
   },
   "outputs": [
    {
     "data": {
      "text/html": [
       "<div>\n",
       "<style scoped>\n",
       "    .dataframe tbody tr th:only-of-type {\n",
       "        vertical-align: middle;\n",
       "    }\n",
       "\n",
       "    .dataframe tbody tr th {\n",
       "        vertical-align: top;\n",
       "    }\n",
       "\n",
       "    .dataframe thead th {\n",
       "        text-align: right;\n",
       "    }\n",
       "</style>\n",
       "<table border=\"1\" class=\"dataframe\">\n",
       "  <thead>\n",
       "    <tr style=\"text-align: right;\">\n",
       "      <th></th>\n",
       "      <th>longitude</th>\n",
       "      <th>latitude</th>\n",
       "      <th>housing_median_age</th>\n",
       "      <th>total_rooms</th>\n",
       "      <th>total_bedrooms</th>\n",
       "      <th>population</th>\n",
       "      <th>households</th>\n",
       "      <th>median_income</th>\n",
       "      <th>median_house_value</th>\n",
       "    </tr>\n",
       "  </thead>\n",
       "  <tbody>\n",
       "    <tr>\n",
       "      <th>5242</th>\n",
       "      <td>0.7</td>\n",
       "      <td>-0.7</td>\n",
       "      <td>0.1</td>\n",
       "      <td>-0.0</td>\n",
       "      <td>0.5</td>\n",
       "      <td>1.3</td>\n",
       "      <td>0.7</td>\n",
       "      <td>-0.9</td>\n",
       "      <td>-0.6</td>\n",
       "    </tr>\n",
       "    <tr>\n",
       "      <th>16846</th>\n",
       "      <td>-1.9</td>\n",
       "      <td>2.9</td>\n",
       "      <td>-0.3</td>\n",
       "      <td>-0.3</td>\n",
       "      <td>-0.1</td>\n",
       "      <td>-0.4</td>\n",
       "      <td>-0.3</td>\n",
       "      <td>-0.8</td>\n",
       "      <td>-1.3</td>\n",
       "    </tr>\n",
       "    <tr>\n",
       "      <th>5932</th>\n",
       "      <td>0.7</td>\n",
       "      <td>-0.7</td>\n",
       "      <td>1.9</td>\n",
       "      <td>0.5</td>\n",
       "      <td>0.6</td>\n",
       "      <td>1.4</td>\n",
       "      <td>0.7</td>\n",
       "      <td>-0.6</td>\n",
       "      <td>-0.5</td>\n",
       "    </tr>\n",
       "    <tr>\n",
       "      <th>11196</th>\n",
       "      <td>-0.7</td>\n",
       "      <td>0.9</td>\n",
       "      <td>0.4</td>\n",
       "      <td>-0.9</td>\n",
       "      <td>-1.0</td>\n",
       "      <td>-0.9</td>\n",
       "      <td>-1.0</td>\n",
       "      <td>-0.4</td>\n",
       "      <td>-0.7</td>\n",
       "    </tr>\n",
       "    <tr>\n",
       "      <th>14302</th>\n",
       "      <td>-1.3</td>\n",
       "      <td>0.8</td>\n",
       "      <td>0.7</td>\n",
       "      <td>-0.4</td>\n",
       "      <td>-0.6</td>\n",
       "      <td>-0.6</td>\n",
       "      <td>-0.6</td>\n",
       "      <td>1.9</td>\n",
       "      <td>2.5</td>\n",
       "    </tr>\n",
       "  </tbody>\n",
       "</table>\n",
       "</div>"
      ],
      "text/plain": [
       "       longitude  latitude  housing_median_age  total_rooms  total_bedrooms  \\\n",
       "5242         0.7      -0.7                 0.1         -0.0             0.5   \n",
       "16846       -1.9       2.9                -0.3         -0.3            -0.1   \n",
       "5932         0.7      -0.7                 1.9          0.5             0.6   \n",
       "11196       -0.7       0.9                 0.4         -0.9            -1.0   \n",
       "14302       -1.3       0.8                 0.7         -0.4            -0.6   \n",
       "\n",
       "       population  households  median_income  median_house_value  \n",
       "5242          1.3         0.7           -0.9                -0.6  \n",
       "16846        -0.4        -0.3           -0.8                -1.3  \n",
       "5932          1.4         0.7           -0.6                -0.5  \n",
       "11196        -0.9        -1.0           -0.4                -0.7  \n",
       "14302        -0.6        -0.6            1.9                 2.5  "
      ]
     },
     "execution_count": 3,
     "metadata": {},
     "output_type": "execute_result"
    }
   ],
   "source": [
    "# Normalize dataset by converting each raw value to its Z-score\n",
    "# For train dataset\n",
    "train_df_mean = train_df.mean()\n",
    "train_df_std = train_df.std()\n",
    "train_df_norm = (train_df - train_df_mean)/train_df_std\n",
    "train_df_norm.head()"
   ]
  },
  {
   "cell_type": "code",
   "execution_count": 4,
   "id": "ee3f570f",
   "metadata": {
    "execution": {
     "iopub.execute_input": "2022-02-15T18:50:15.032052Z",
     "iopub.status.busy": "2022-02-15T18:50:15.031402Z",
     "iopub.status.idle": "2022-02-15T18:50:15.037764Z",
     "shell.execute_reply": "2022-02-15T18:50:15.038352Z",
     "shell.execute_reply.started": "2022-02-15T18:48:49.699734Z"
    },
    "papermill": {
     "duration": 0.022283,
     "end_time": "2022-02-15T18:50:15.038525",
     "exception": false,
     "start_time": "2022-02-15T18:50:15.016242",
     "status": "completed"
    },
    "tags": []
   },
   "outputs": [],
   "source": [
    "# Normalize test dataset\n",
    "test_df_mean = test_df.mean()\n",
    "test_df_std = test_df.std()\n",
    "test_df_norm = (test_df - test_df_mean)/test_df_std"
   ]
  },
  {
   "cell_type": "code",
   "execution_count": 5,
   "id": "9f74c8e1",
   "metadata": {
    "execution": {
     "iopub.execute_input": "2022-02-15T18:50:15.067064Z",
     "iopub.status.busy": "2022-02-15T18:50:15.066378Z",
     "iopub.status.idle": "2022-02-15T18:50:15.080601Z",
     "shell.execute_reply": "2022-02-15T18:50:15.080001Z",
     "shell.execute_reply.started": "2022-02-15T18:48:49.708226Z"
    },
    "papermill": {
     "duration": 0.029411,
     "end_time": "2022-02-15T18:50:15.080754",
     "exception": false,
     "start_time": "2022-02-15T18:50:15.051343",
     "status": "completed"
    },
    "tags": []
   },
   "outputs": [
    {
     "data": {
      "text/plain": [
       "5242    0.0\n",
       "16846   0.0\n",
       "5932    0.0\n",
       "11196   0.0\n",
       "14302   1.0\n",
       "         ..\n",
       "9883    0.0\n",
       "5708    0.0\n",
       "1717    0.0\n",
       "1290    1.0\n",
       "11033   0.0\n",
       "Name: median_house_value_is_high, Length: 8000, dtype: float64"
      ]
     },
     "execution_count": 5,
     "metadata": {},
     "output_type": "execute_result"
    }
   ],
   "source": [
    "# Create Binary label\n",
    "threshold = 265000.0   #75th percentile of median house value\n",
    "train_df_norm[\"median_house_value_is_high\"] = (train_df[\"median_house_value\"] > threshold).astype(float)\n",
    "test_df_norm[\"median_house_value_is_high\"] = (test_df[\"median_house_value\"] > threshold).astype(float)\n",
    "train_df_norm[\"median_house_value_is_high\"].head(8000)"
   ]
  },
  {
   "cell_type": "code",
   "execution_count": 6,
   "id": "66e39c14",
   "metadata": {
    "execution": {
     "iopub.execute_input": "2022-02-15T18:50:15.113341Z",
     "iopub.status.busy": "2022-02-15T18:50:15.112613Z",
     "iopub.status.idle": "2022-02-15T18:50:15.207376Z",
     "shell.execute_reply": "2022-02-15T18:50:15.207862Z",
     "shell.execute_reply.started": "2022-02-15T18:48:49.726730Z"
    },
    "papermill": {
     "duration": 0.114475,
     "end_time": "2022-02-15T18:50:15.208046",
     "exception": false,
     "start_time": "2022-02-15T18:50:15.093571",
     "status": "completed"
    },
    "tags": []
   },
   "outputs": [
    {
     "name": "stderr",
     "output_type": "stream",
     "text": [
      "2022-02-15 18:50:15.151601: I tensorflow/core/common_runtime/process_util.cc:146] Creating new thread pool with default inter op setting: 2. Tune using inter_op_parallelism_threads for best performance.\n"
     ]
    },
    {
     "data": {
      "text/plain": [
       "<tf.Tensor: shape=(17000, 2), dtype=float32, numpy=\n",
       "array([[-0.9149554 , -0.02094749],\n",
       "       [-0.8311572 , -0.32233095],\n",
       "       [-0.63043994,  0.47172502],\n",
       "       ...,\n",
       "       [-1.173844  , -0.49939948],\n",
       "       [ 0.62773776,  0.703382  ],\n",
       "       [-0.00968374,  0.8451286 ]], dtype=float32)>"
      ]
     },
     "execution_count": 6,
     "metadata": {},
     "output_type": "execute_result"
    }
   ],
   "source": [
    "# Represent features in feature columns\n",
    "# Create an empty list that will hold created feature columns \n",
    "feature_columns = []\n",
    "\n",
    "# Create numerical feature column to represent median_income\n",
    "median_income = tf.feature_column.numeric_column(\"median_income\")\n",
    "feature_columns.append(median_income)\n",
    "\n",
    "# Create numerical feature column to represent total_rooms\n",
    "tr = tf.feature_column.numeric_column(\"total_rooms\")\n",
    "feature_columns.append(tr)\n",
    "\n",
    "# Convert the feature_columns list into a layer\n",
    "feature_layer = layers.DenseFeatures(feature_columns)\n",
    "\n",
    "# Print first 3 and last 3 rows of the feature_layer's output when applied to train_df_norm\n",
    "feature_layer(dict(train_df_norm))"
   ]
  },
  {
   "cell_type": "code",
   "execution_count": 7,
   "id": "e5338042",
   "metadata": {
    "execution": {
     "iopub.execute_input": "2022-02-15T18:50:15.238811Z",
     "iopub.status.busy": "2022-02-15T18:50:15.238123Z",
     "iopub.status.idle": "2022-02-15T18:50:15.247574Z",
     "shell.execute_reply": "2022-02-15T18:50:15.248106Z",
     "shell.execute_reply.started": "2022-02-15T18:48:49.752923Z"
    },
    "papermill": {
     "duration": 0.026567,
     "end_time": "2022-02-15T18:50:15.248301",
     "exception": false,
     "start_time": "2022-02-15T18:50:15.221734",
     "status": "completed"
    },
    "tags": []
   },
   "outputs": [],
   "source": [
    "# Define functions that build and train the model\n",
    "def create_model(my_learning_rate, feature_layer, my_metrics):\n",
    "    \"\"\"Create and compile a simple classification model\"\"\"\n",
    "    model = tf.keras.models.Sequential()\n",
    "    \n",
    "    # Add the feature layer to the model\n",
    "    model.add(feature_layer)\n",
    "    \n",
    "    model.add(tf.keras.layers.Dense(units=1, input_shape=(1,),\n",
    "                                    activation=tf.sigmoid),)\n",
    "    \n",
    "    # Call the compile method to construct the layers into a model that tensorflow can execute\n",
    "    model.compile(optimizer=tf.keras.optimizers.RMSprop(learning_rate=my_learning_rate),\n",
    "                  loss=tf.keras.losses.BinaryCrossentropy(),\n",
    "                  metrics=my_metrics)\n",
    "    \n",
    "    return model\n",
    "\n",
    "def train_model(model, dataset, epochs, label_name, batch_size=None, shuffle=True):\n",
    "    \"\"\"Feed dataset into the model to train it\"\"\"\n",
    "    features = {name:np.array(value) for name, value in dataset.items()}\n",
    "    label = np.array(features.pop(label_name))\n",
    "    history = model.fit(x=features, y=label, batch_size=batch_size, epochs=epochs,shuffle=shuffle)\n",
    "    \n",
    "    epochs = history.epoch\n",
    "    hist = pd.DataFrame(history.history)\n",
    "    \n",
    "    return epochs,hist\n"
   ]
  },
  {
   "cell_type": "code",
   "execution_count": 8,
   "id": "305b3ff9",
   "metadata": {
    "execution": {
     "iopub.execute_input": "2022-02-15T18:50:15.278917Z",
     "iopub.status.busy": "2022-02-15T18:50:15.278285Z",
     "iopub.status.idle": "2022-02-15T18:50:15.284269Z",
     "shell.execute_reply": "2022-02-15T18:50:15.283699Z",
     "shell.execute_reply.started": "2022-02-15T18:48:49.762300Z"
    },
    "papermill": {
     "duration": 0.022489,
     "end_time": "2022-02-15T18:50:15.284412",
     "exception": false,
     "start_time": "2022-02-15T18:50:15.261923",
     "status": "completed"
    },
    "tags": []
   },
   "outputs": [],
   "source": [
    "# Define the plotting function\n",
    "def plot_curve(epochs, hist, list_of_metrics):\n",
    "    \"\"\"Plot a curve of one or more classification metrics vs epoch\"\"\"\n",
    "    plt.figure()\n",
    "    plt.xlabel(\"Epochs\")\n",
    "    plt.ylabel(\"Value\")\n",
    "    \n",
    "    for m in list_of_metrics:\n",
    "        x = hist[m]\n",
    "        plt.plot(epochs[1:], x[1:], label=m)\n",
    "        \n",
    "    plt.legend()"
   ]
  },
  {
   "cell_type": "code",
   "execution_count": 9,
   "id": "25004423",
   "metadata": {
    "execution": {
     "iopub.execute_input": "2022-02-15T18:50:15.323163Z",
     "iopub.status.busy": "2022-02-15T18:50:15.322475Z",
     "iopub.status.idle": "2022-02-15T18:50:22.106543Z",
     "shell.execute_reply": "2022-02-15T18:50:22.106026Z",
     "shell.execute_reply.started": "2022-02-15T18:48:49.868231Z"
    },
    "papermill": {
     "duration": 6.80869,
     "end_time": "2022-02-15T18:50:22.106696",
     "exception": false,
     "start_time": "2022-02-15T18:50:15.298006",
     "status": "completed"
    },
    "tags": []
   },
   "outputs": [
    {
     "name": "stderr",
     "output_type": "stream",
     "text": [
      "2022-02-15 18:50:15.453982: I tensorflow/compiler/mlir/mlir_graph_optimization_pass.cc:185] None of the MLIR Optimization Passes are enabled (registered 2)\n"
     ]
    },
    {
     "name": "stdout",
     "output_type": "stream",
     "text": [
      "Epoch 1/20\n",
      "170/170 [==============================] - 1s 2ms/step - loss: 0.6546 - accuracy: 0.7226 - precision: 0.4571 - recall: 0.5884\n",
      "Epoch 2/20\n",
      "170/170 [==============================] - 0s 2ms/step - loss: 0.5916 - accuracy: 0.7525 - precision: 0.5041 - recall: 0.5712\n",
      "Epoch 3/20\n",
      "170/170 [==============================] - 0s 2ms/step - loss: 0.5387 - accuracy: 0.7749 - precision: 0.5486 - recall: 0.5578\n",
      "Epoch 4/20\n",
      "170/170 [==============================] - 0s 2ms/step - loss: 0.4949 - accuracy: 0.7911 - precision: 0.5891 - recall: 0.5416\n",
      "Epoch 5/20\n",
      "170/170 [==============================] - 0s 2ms/step - loss: 0.4609 - accuracy: 0.8070 - precision: 0.6384 - recall: 0.5246\n",
      "Epoch 6/20\n",
      "170/170 [==============================] - 0s 1ms/step - loss: 0.4354 - accuracy: 0.8184 - precision: 0.6838 - recall: 0.5081\n",
      "Epoch 7/20\n",
      "170/170 [==============================] - 0s 2ms/step - loss: 0.4179 - accuracy: 0.8260 - precision: 0.7250 - recall: 0.4891\n",
      "Epoch 8/20\n",
      "170/170 [==============================] - 0s 1ms/step - loss: 0.4072 - accuracy: 0.8289 - precision: 0.7515 - recall: 0.4707\n",
      "Epoch 9/20\n",
      "170/170 [==============================] - 0s 2ms/step - loss: 0.4014 - accuracy: 0.8326 - precision: 0.7800 - recall: 0.4599\n",
      "Epoch 10/20\n",
      "170/170 [==============================] - 0s 2ms/step - loss: 0.3988 - accuracy: 0.8346 - precision: 0.7918 - recall: 0.4584\n",
      "Epoch 11/20\n",
      "170/170 [==============================] - 0s 1ms/step - loss: 0.3976 - accuracy: 0.8354 - precision: 0.7985 - recall: 0.4563\n",
      "Epoch 12/20\n",
      "170/170 [==============================] - 0s 1ms/step - loss: 0.3971 - accuracy: 0.8356 - precision: 0.7988 - recall: 0.4570\n",
      "Epoch 13/20\n",
      "170/170 [==============================] - 0s 1ms/step - loss: 0.3969 - accuracy: 0.8365 - precision: 0.7996 - recall: 0.4613\n",
      "Epoch 14/20\n",
      "170/170 [==============================] - 0s 2ms/step - loss: 0.3967 - accuracy: 0.8366 - precision: 0.7985 - recall: 0.4627\n",
      "Epoch 15/20\n",
      "170/170 [==============================] - 0s 2ms/step - loss: 0.3967 - accuracy: 0.8370 - precision: 0.7981 - recall: 0.4653\n",
      "Epoch 16/20\n",
      "170/170 [==============================] - 0s 2ms/step - loss: 0.3966 - accuracy: 0.8364 - precision: 0.7980 - recall: 0.4622\n",
      "Epoch 17/20\n",
      "170/170 [==============================] - 0s 2ms/step - loss: 0.3966 - accuracy: 0.8366 - precision: 0.7956 - recall: 0.4655\n",
      "Epoch 18/20\n",
      "170/170 [==============================] - 0s 1ms/step - loss: 0.3966 - accuracy: 0.8363 - precision: 0.7966 - recall: 0.4629\n",
      "Epoch 19/20\n",
      "170/170 [==============================] - 0s 1ms/step - loss: 0.3966 - accuracy: 0.8364 - precision: 0.7963 - recall: 0.4639\n",
      "Epoch 20/20\n",
      "170/170 [==============================] - 0s 1ms/step - loss: 0.3966 - accuracy: 0.8365 - precision: 0.7961 - recall: 0.4643\n"
     ]
    },
    {
     "data": {
      "image/png": "[encoded data removed]",
      "text/plain": [
       "<Figure size 432x288 with 1 Axes>"
      ]
     },
     "metadata": {
      "needs_background": "light"
     },
     "output_type": "display_data"
    }
   ],
   "source": [
    "# Calling functions\n",
    "# hyperparameters\n",
    "learning_rate = 0.001\n",
    "epochs = 20\n",
    "batch_size = 100\n",
    "label_name = \"median_house_value_is_high\"\n",
    "classification_threshold = 0.53\n",
    "\n",
    "# Establish the metrics the model will measure\n",
    "METRICS = [\n",
    "           tf.keras.metrics.BinaryAccuracy(name='accuracy', threshold=classification_threshold),\n",
    "           tf.keras.metrics.Precision(thresholds=classification_threshold, name='precision'),\n",
    "           tf.keras.metrics.Recall(thresholds=classification_threshold, name='recall'),\n",
    "          ]\n",
    "\n",
    "my_model = create_model(learning_rate, feature_layer, METRICS)\n",
    "\n",
    "epochs, hist = train_model(my_model, train_df_norm, epochs, label_name, batch_size)\n",
    "\n",
    "list_of_metrics_to_plot = ['accuracy','precision','recall']\n",
    "plot_curve(epochs, hist, list_of_metrics_to_plot)"
   ]
  },
  {
   "cell_type": "code",
   "execution_count": 10,
   "id": "4f623ab8",
   "metadata": {
    "execution": {
     "iopub.execute_input": "2022-02-15T18:50:22.246753Z",
     "iopub.status.busy": "2022-02-15T18:50:22.246086Z",
     "iopub.status.idle": "2022-02-15T18:50:22.768474Z",
     "shell.execute_reply": "2022-02-15T18:50:22.769044Z",
     "shell.execute_reply.started": "2022-02-15T18:48:55.864864Z"
    },
    "papermill": {
     "duration": 0.596406,
     "end_time": "2022-02-15T18:50:22.769234",
     "exception": false,
     "start_time": "2022-02-15T18:50:22.172828",
     "status": "completed"
    },
    "tags": []
   },
   "outputs": [
    {
     "name": "stdout",
     "output_type": "stream",
     "text": [
      "30/30 [==============================] - 0s 1ms/step - loss: 0.4069 - accuracy: 0.8317 - precision: 0.7757 - recall: 0.4544\n"
     ]
    },
    {
     "data": {
      "text/plain": [
       "[0.40687382221221924,\n",
       " 0.8316666483879089,\n",
       " 0.7757437229156494,\n",
       " 0.45442360639572144]"
      ]
     },
     "execution_count": 10,
     "metadata": {},
     "output_type": "execute_result"
    }
   ],
   "source": [
    "# Evaluate the model\n",
    "features = {name:np.array(value) for name,value in test_df_norm.items()}\n",
    "label = np.array(features.pop(label_name))\n",
    "\n",
    "my_model.evaluate(x = features, y =label, batch_size=batch_size)"
   ]
  }
 ],
 "metadata": {
  "kernelspec": {
   "display_name": "Python 3",
   "language": "python",
   "name": "python3"
  },
  "language_info": {
   "codemirror_mode": {
    "name": "ipython",
    "version": 3
   },
   "file_extension": ".py",
   "mimetype": "text/x-python",
   "name": "python",
   "nbconvert_exporter": "python",
   "pygments_lexer": "ipython3",
   "version": "3.7.12"
  },
  "papermill": {
   "default_parameters": {},
   "duration": 27.735125,
   "end_time": "2022-02-15T18:50:25.626394",
   "environment_variables": {},
   "exception": null,
   "input_path": "__notebook__.ipynb",
   "output_path": "__notebook__.ipynb",
   "parameters": {},
   "start_time": "2022-02-15T18:49:57.891269",
   "version": "2.3.3"
  }
 },
 "nbformat": 4,
 "nbformat_minor": 5
}
