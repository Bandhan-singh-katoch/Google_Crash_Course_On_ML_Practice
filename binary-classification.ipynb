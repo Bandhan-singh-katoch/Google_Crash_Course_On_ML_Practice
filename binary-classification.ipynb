{
 "cells": [
  {
   "cell_type": "code",
   "execution_count": 1,
   "id": "43e0a768",
   "metadata": {
    "_cell_guid": "b1076dfc-b9ad-4769-8c92-a6c4dae69d19",
    "_uuid": "8f2839f25d086af736a60e9eeb907d3b93b6e0e5",
    "execution": {
     "iopub.execute_input": "2022-02-14T18:36:03.215726Z",
     "iopub.status.busy": "2022-02-14T18:36:03.213954Z",
     "iopub.status.idle": "2022-02-14T18:36:10.281795Z",
     "shell.execute_reply": "2022-02-14T18:36:10.281128Z",
     "shell.execute_reply.started": "2022-02-14T17:35:04.252587Z"
    },
    "papermill": {
     "duration": 7.078857,
     "end_time": "2022-02-14T18:36:10.281955",
     "exception": false,
     "start_time": "2022-02-14T18:36:03.203098",
     "status": "completed"
    },
    "tags": []
   },
   "outputs": [],
   "source": [
    "import numpy as np\n",
    "import pandas as pd\n",
    "import tensorflow as tf\n",
    "from tensorflow.keras import layers\n",
    "from matplotlib import pyplot as plt\n",
    "\n",
    "pd.options.display.max_rows =10\n",
    "pd.options.display.float_format = \"{:.1f}\".format"
   ]
  },
  {
   "cell_type": "code",
   "execution_count": 2,
   "id": "f4846242",
   "metadata": {
    "execution": {
     "iopub.execute_input": "2022-02-14T18:36:10.296946Z",
     "iopub.status.busy": "2022-02-14T18:36:10.296286Z",
     "iopub.status.idle": "2022-02-14T18:36:10.384305Z",
     "shell.execute_reply": "2022-02-14T18:36:10.383761Z",
     "shell.execute_reply.started": "2022-02-14T17:48:41.874001Z"
    },
    "papermill": {
     "duration": 0.097823,
     "end_time": "2022-02-14T18:36:10.384465",
     "exception": false,
     "start_time": "2022-02-14T18:36:10.286642",
     "status": "completed"
    },
    "tags": []
   },
   "outputs": [],
   "source": [
    "train_df = pd.read_csv(\"../input/google-machine-learning-crash-course/california_housing_train (5).xls\")\n",
    "test_df = pd.read_csv(\"../input/google-machine-learning-crash-course/california_housing_test (2).csv\")\n",
    "train_df = train_df.reindex(np.random.permutation(train_df.index))"
   ]
  },
  {
   "cell_type": "code",
   "execution_count": null,
   "id": "7032130e",
   "metadata": {
    "papermill": {
     "duration": 0.003424,
     "end_time": "2022-02-14T18:36:10.391903",
     "exception": false,
     "start_time": "2022-02-14T18:36:10.388479",
     "status": "completed"
    },
    "tags": []
   },
   "outputs": [],
   "source": []
  }
 ],
 "metadata": {
  "kernelspec": {
   "display_name": "Python 3",
   "language": "python",
   "name": "python3"
  },
  "language_info": {
   "codemirror_mode": {
    "name": "ipython",
    "version": 3
   },
   "file_extension": ".py",
   "mimetype": "text/x-python",
   "name": "python",
   "nbconvert_exporter": "python",
   "pygments_lexer": "ipython3",
   "version": "3.7.12"
  },
  "papermill": {
   "default_parameters": {},
   "duration": 21.929599,
   "end_time": "2022-02-14T18:36:13.117664",
   "environment_variables": {},
   "exception": null,
   "input_path": "__notebook__.ipynb",
   "output_path": "__notebook__.ipynb",
   "parameters": {},
   "start_time": "2022-02-14T18:35:51.188065",
   "version": "2.3.3"
  }
 },
 "nbformat": 4,
 "nbformat_minor": 5
}
